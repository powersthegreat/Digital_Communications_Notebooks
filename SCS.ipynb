{
 "cells": [
  {
   "cell_type": "markdown",
   "metadata": {},
   "source": [
    "#### SCS Implementation\n",
    "\n",
    "The following outlines the symbol clock synchronizer (SCS) subsystem used in communications systems with non-coherent transmitter and receiver architectures. This highlights the various submodules needed to correct clock offsets and explains their internal functionalities. While a phase-locked loop (PLL) can synchronize to track the wavefrom envelope, the analog-to-digital converter produces a sampled version of the received signal that is not coherent with the ideal symbol times. The SCS addresses the small clock offsets needed to be made in order to sample at the optimal rate allowing for synchronization to be reintroduced between the transmitter and receiver. Figure 1 below displays the different SCS submodules and their placement within the subsystem.\n",
    "\n",
    "<div style=\"text-align: center;\">\n",
    "    <img src=\"./images/SCS/scs_diagram.png\" alt=\"\" width=\"1000\" />\n",
    "    <p style=\"text-align: center;\">Figure 1: SCS Subsystem Architecture</p>\n",
    "</div>"
   ]
  },
  {
   "cell_type": "markdown",
   "metadata": {},
   "source": [
    "#### System Configuration\n",
    "\n",
    "Before describing the SCS further, the developed signal processing library, along with two additional libraries for plotting and linear algebra, must be imported. These libraries will be useful for the later visualization of the system's internal variables."
   ]
  },
  {
   "cell_type": "code",
   "execution_count": null,
   "metadata": {},
   "outputs": [],
   "source": [
    "%pip install -q numpy matplotlib scipy --disable-pip-version-check\n",
    "import numpy as np\n",
    "import matplotlib.pyplot as plt\n",
    "from helper_functions import sp_library as sp"
   ]
  },
  {
   "cell_type": "markdown",
   "metadata": {},
   "source": [
    "#### Downsampling\n",
    "\n",
    "The SCS subsystem expects 2 samples per symbol as input and produces one sample per symbol as output. Therefore the incoming receive signal samples must be downsampled by a factor of $\\frac{N}{2}$ to acheive the 2 samples per symbol input. This process is represented mathmatically below\n",
    "\n",
    "$$\n",
    "x\\left(nT_s\\right)\\:\\rightarrow \\:\\:\\:x_{downsampled}\\left(nT_s\\cdot \\:\\:\\frac{N}{2}\\right)\\:\\rightarrow \\:x\\left(nT_N\\right)\n",
    "$$\n",
    "\n",
    "where:\n",
    "- $T_s$ is the sample duration corresponding to N samples per symbol,\n",
    "- $N/2$ is the downsampling rate required to obtain a resulting 2 samples per symbol,\n",
    "- $T_N$ is the sample duration corresponding to 2 samples per symbol.\n",
    " \n",
    "The following excerpt shows a test cases of the downsampling module later used in the full SCS subsystem as well as plots its input and output."
   ]
  },
  {
   "cell_type": "code",
   "execution_count": null,
   "metadata": {},
   "outputs": [],
   "source": [
    "# test input samples\n",
    "signal = np.array([1, 2, 3, 4, 5, 6, 7, 8, 9, 10])\n",
    "downsample_factor = 2\n",
    "\n",
    "# downsampling\n",
    "downsampled_signal = sp.downsample(signal, downsample_factor)\n",
    "\n",
    "plt.figure(figsize=(10, 5))\n",
    "plt.subplot(1, 2, 1)\n",
    "plt.stem(signal)\n",
    "plt.title(\"Original Signal\")\n",
    "plt.xlabel(\"Sample Index\")\n",
    "plt.ylabel(\"Amplitude\")\n",
    "plt.subplot(1, 2, 2)\n",
    "plt.stem(downsampled_signal)\n",
    "plt.title(\"Downsampled Signal\")\n",
    "plt.xlabel(\"Sample Index\")\n",
    "plt.ylabel(\"Amplitude\")\n",
    "\n",
    "plt.tight_layout()\n",
    "plt.show()"
   ]
  },
  {
   "cell_type": "markdown",
   "metadata": {},
   "source": [
    "#### Interpolator\n",
    "\n",
    "The interpolator module takes in the receive signal represented by 2 samples per symbol as well as a calculated timing adjustment and produces an offset sample corresponding to the optimal sample time. This new sample is produced via approximating a parabolic interpolation of the current input sample, as well as the previous and next interpolation outputs in which the corresponding optimal sample is returned.\n",
    "\n",
    "<div style=\"text-align: center;\">\n",
    "    <img src=\"./images/SCS/scs_interpolation_example.png\" alt=\"\" width=\"500\" />\n",
    "    <p style=\"text-align: center;\">Figure 2: Optimal Sample Selection via Parabolic Interpolation</p>\n",
    "</div>\n",
    "\n",
    "The internal architecture of the module follows a Farrow filter structure, where the parabolic interpolation is efficiently implemented. The Farrow structure allows for the continuous adjustment of the interpolation phase, which is essential for handling varying timing offsets in real-time. This structure consists of a set of polynomial coefficients, which are dynamically adjusted based on the timing adjustment input.\n",
    "\n",
    "<div style=\"text-align: center;\">\n",
    "    <img src=\"./images/SCS/scs_farrow_interpolator.png\" alt=\"\" width=\"600\" />\n",
    "    <p style=\"text-align: center;\">Figure 3: Farrow Interpolation Structure Block Diagram</p>\n",
    "</div>\n",
    "\n",
    "An excerpt similar to that used in the SCS subsystem is shown below to illustrate the parabolic interpolation process and result."
   ]
  },
  {
   "cell_type": "code",
   "execution_count": null,
   "metadata": {},
   "outputs": [],
   "source": [
    "def parabolic_interpolation(x, y):\n",
    "    x = np.array(x)\n",
    "    y = np.array(y)\n",
    "\n",
    "    if len(x) < 3:\n",
    "        raise ValueError(\"At least 3 data points are required for parabolic interpolation.\")\n",
    "\n",
    "    # fit a parabolic polynomial to the data\n",
    "    coefficients = np.polyfit(x, y, 2)\n",
    "    poly = np.poly1d(coefficients)\n",
    "\n",
    "    # generate interpolation points\n",
    "    x_interp = np.linspace(np.min(x), np.max(x), 1000)\n",
    "    y_interp = poly(x_interp)\n",
    "    return x_interp, y_interp\n",
    "\n",
    "# test case \n",
    "x = np.array([0, 1, 2])\n",
    "y = np.array([1, 3, 2])\n",
    "\n",
    "x_interp, y_interp = parabolic_interpolation(x, y)\n",
    "\n",
    "plt.figure(figsize=(8,4))\n",
    "plt.scatter(x, y, color='red', label='Original Data Points')\n",
    "plt.plot(x_interp, y_interp, color='blue', label='Parabolic Interpolation')\n",
    "plt.xlabel('x')\n",
    "plt.ylabel('y')\n",
    "plt.title('Parabolic Interpolation')\n",
    "plt.legend()\n",
    "plt.grid(True)\n",
    "plt.show()"
   ]
  },
  {
   "cell_type": "markdown",
   "metadata": {},
   "source": [
    "#### Early-Late Timing Error Detector\n",
    "\n",
    "The early-late timing error detector (ELTED) module relies on three samples as input to calculate a proportionate timing adjustment, this includes the previous, current, and next sample which are stored in a shifting register. The late sample value is subtracted from the early sample to approximate a derivative of the current sample where approximation is then multiplied by the sign of the current sample to account for ambiguities between positive and negative constellation points. The result of this calculation is a proportional timing adjustment, which tells the system how to shift its sampling clock to better align with the peak of the pulse. This correction is crucial for maintaining accurate symbol detection, particularly in environments where timing drifts due to channel conditions or other factors. This process is shown below in Figure 4 as well as the subsequent equation.\n",
    "\n",
    "<div style=\"text-align: center;\">\n",
    "    <img src=\"./images/SCS/scs_ted_example.png\" alt=\"\" width=\"500\" />\n",
    "    <p style=\"text-align: center;\">Figure 4: Example ELTED Data Points</p>\n",
    "</div>\n",
    "\n",
    "$$\n",
    "e\\left(kT_s\\right)=sgn\\left\\{x\\left(kTs\\right)\\right\\}\\cdot \\:\\left[x\\left(\\left(k+\\frac{1}{2}\\right)T_s\\right)-x\\left(k\\left(-\\frac{1}{2}\\right)T_s\\right)\\right]\n",
    "$$\n",
    "\n",
    "where:\n",
    "- $x(kT_s)$ represents the current sample,\n",
    "- $x\\left(\\left(k+\\frac{1}{2}\\right)T_s\\right)$ represents the next sample,\n",
    "- $x\\left(k\\left(-\\frac{1}{2}\\right)T_s\\right)$ represents the previous sample.\n",
    "\n",
    "This calculation can be made for the real or imaginary channels in a quadrature system as it is assumed that the same ADC was used for discretization and therefore the two channels are synchronized. The following excerpt shows the timing error detector implementation used later in the SCS subsystem."
   ]
  },
  {
   "cell_type": "code",
   "execution_count": null,
   "metadata": {},
   "outputs": [],
   "source": [
    "def early_late_ted(early_sample, current_sample, late_sample):\n",
    "        e_nT = (late_sample - early_sample) * (-1 if current_sample < 0 else 1)\n",
    "        return e_nT\n",
    "\n",
    "# test sample inputs\n",
    "early_sample = 1.0\n",
    "current_sample = -0.5\n",
    "late_sample = 2.0\n",
    "\n",
    "ted_output = early_late_ted(early_sample, current_sample, late_sample)\n",
    "print(f\"\\nCalculated Clock Offset: {ted_output}\\n\")"
   ]
  },
  {
   "cell_type": "markdown",
   "metadata": {},
   "source": [
    "#### Loop Filter\n",
    "\n",
    "The loop filter module provides stability for the overall PLL system by shaping the transient response. During instantiation of a PLL system, a loop bandwidth and damping factor are defined as parameters shaping this transient response. The loop bandwidth specifies the speed at which the PLL will converge towards matching the input reference signal, setting a wider loop bandwidth allows the PLL to respond more rapidly respond to input frequency changes but introduces more internal noise. The damping factor specifies how the oscillations decay in the transient response when a input frequency change is introduced. Together these parameters categorize the loop filter coefficients $K_1$ and $K_2$ seen in figure 2.\n",
    "\n",
    "<div style=\"text-align: center;\">\n",
    "    <img src=\"./images/PLL/pll_loop_filter_diagram.png\" alt=\"\" width=\"500\" />\n",
    "    <p style=\"text-align: center;\">Figure 5: Loop Filter Internal Architecture</p>\n",
    "</div>\n",
    "\n",
    "The derivations of $K_1$ and $K_2$ are shown below\n",
    "$$\n",
    "K_1 = \\frac{4 \\xi \\left( \\frac{B_n T_s}{\\zeta + \\frac{1}{4 \\zeta}} \\right)}{1 + 2 \\zeta \\left( \\frac{B_{nT} T_s}{\\zeta + \\frac{1}{4 \\zeta}} \\right) + \\left( \\frac{B_{nT} T_s}{\\zeta + \\frac{1}{4 \\zeta}} \\right)^2} \\quad \\quad \\quad K_2 = \\frac{4 \\left( \\frac{B_n T_s}{\\zeta + \\frac{1}{4 \\zeta}} \\right)^2}{1 + 2 \\zeta \\left( \\frac{B_{nT} T_s}{\\zeta + \\frac{1}{4 \\zeta}} \\right) + \\left( \\frac{B_{nT} T_s}{\\zeta + \\frac{1}{4 \\zeta}} \\right)^2}\n",
    "$$\n",
    "\n",
    "where:\n",
    "- $B_n$ represents the loop bandwidth (usually normalized for the sample rate $f_s$),\n",
    "- $\\zeta$ represents the damping factor,\n",
    "- $T_s$ is the sampling period of the system.\n",
    "\n",
    "The following excerpt shows the loop filter coeffiencient calculations later used in the full SCS subsystem. "
   ]
  },
  {
   "cell_type": "code",
   "execution_count": null,
   "metadata": {},
   "outputs": [],
   "source": [
    "def compute_loop_constants(fs, lb, df):\n",
    "    denominator = 1 + ((2 * df) * ((lb * (1 / fs)) / (df + (1 / (4 * df))))) + ((lb * (1 / fs)) / (df + (1 / (4 * df)))) ** 2\n",
    "    K1 = ((4 * df) * ((lb * (1 / fs)) / (df + (1 / (4 * df))))) / denominator\n",
    "    K2 = (((lb * (1 / fs)) / (df + (1 / (4 * df)))) ** 2) / denominator\n",
    "    return K1, K2\n",
    "\n",
    "sample_rate = 8\n",
    "loop_bandwidth = 0.02 * sample_rate\n",
    "damping_factor = 1 / np.sqrt(2)\n",
    "k1, k2 = compute_loop_constants(sample_rate, loop_bandwidth, damping_factor)\n",
    "\n",
    "print(\"\\nLoop Filter Configuration Parameters\")\n",
    "print(f\"Sample Rate: {sample_rate}\")\n",
    "print(f\"Loop Bandwidth: {loop_bandwidth}\")\n",
    "print(f\"Damping Factor: {np.round(damping_factor, 5)}\")\n",
    "print(f\"Loop Filter Coefficient K1: {np.round(k1, 5)}\")\n",
    "print(f\"Loop Filter Coefficient K2: {np.round(k2, 5)}\\n\")"
   ]
  },
  {
   "cell_type": "markdown",
   "metadata": {},
   "source": [
    "#### Mod-1 Decrementing Counter\n",
    "The mod-1 decrementing counter is used specifically because of the 2 samples per symbol input rate. This module tracks when to perform a new timing offset calculation as well as when to select a sample at the sub system output. Given a initial value, the decrementor decreases by $\\frac{1}{2}$ each input sample adjusted by the loop filter output. As soon as the value of the decrementor becomes negative a strobe occurs indicating to the system that the current sample corresponds to a pulse peak and should be adjusted and output. The internal functionality of the module is shown below in Figure 6. \n",
    "\n",
    "<div style=\"text-align: center;\">\n",
    "    <img src=\"./images/SCS/scs_mod_counter.png\" alt=\"\" width=\"700\" />\n",
    "    <p style=\"text-align: center;\">Figure 6: Mod-1 Decrementing Counter Internal Architecture</p>\n",
    "</div>\n",
    "\n",
    "where:\n",
    "- $m(k)$ is the current counter value,\n",
    "- $m(k-1)$ is the previous counter value,\n",
    "- $v(k)$ is the loop filter output.\n",
    "\n",
    "The following excerpt shows the decrementing mod-1 counter implementation used later in the full SCS subsystem."
   ]
  },
  {
   "cell_type": "code",
   "execution_count": null,
   "metadata": {},
   "outputs": [],
   "source": [
    "def update_counter(counter, loop_filter_output):\n",
    "    # update the decrementing counter\n",
    "    counter -= (0.5 + loop_filter_output)\n",
    "    \n",
    "    # check if the counter is negative\n",
    "    if counter < 0:\n",
    "        print(\"Strobe activated.\")\n",
    "        counter = counter + 1  # mod 1\n",
    "    \n",
    "    return counter\n",
    "\n",
    "# test inputs\n",
    "loop_filter_outputs = [0.01, 0.02, 0.03, 0.02, 0.01]\n",
    "current_value = 1.0\n",
    "\n",
    "print(\"Starting Mod-1 Decrementing Counter Simulation:\")\n",
    "for output in loop_filter_outputs:\n",
    "    current_value = update_counter(current_value, output)\n",
    "    print(f\"Current Counter Value: {current_value:.2f}\")\n"
   ]
  },
  {
   "cell_type": "markdown",
   "metadata": {},
   "source": [
    "#### Clock Offset Calculation\n",
    "Using the current mod-1 decrementing counter value and loop filter output the timing offset is produced. When the decrementing counter strobe is activated, the previous counter value is divided by the adjusted loop filter output and fed into the interpolator for sampling adjustment. This calculation of the timing offset is mathmatically represented below\n",
    "\n",
    "$$\n",
    "\\mu \\left(k\\right)=\\frac{m\\left(k-1\\right)}{w\\left(k\\right)}\n",
    "$$\n",
    "\n",
    "where:\n",
    "- $\\mu(k)$ is the produced clock offset,\n",
    "- $m(k-1)$ is the previous decrementing counter output,\n",
    "- $w(k)$ is the adjusted loop filter output.\n",
    "\n",
    "The following excerpt shows the decrementing mod-1 counter implementation used later in the full SCS subsystem."
   ]
  },
  {
   "cell_type": "code",
   "execution_count": null,
   "metadata": {},
   "outputs": [],
   "source": [
    "def compute_mu(counter_prev, lf_adjusted_output):\n",
    "    if lf_adjusted_output < 1:\n",
    "        lf_adjusted_output = 1\n",
    "    return counter_prev / lf_adjusted_output\n",
    "\n",
    "# test case 1\n",
    "counter_prev_1 = 1.0\n",
    "lf_adjusted_output_1 = 0.5\n",
    "expected_output_1 = 2.0\n",
    "mu = compute_mu(counter_prev_1, lf_adjusted_output_1)\n",
    "print(f\"Computed Timing Offset: {mu} symbols\")\n",
    "\n",
    "# test case 2\n",
    "counter_prev_2 = 2.0\n",
    "lf_adjusted_output_2 = 0.0\n",
    "mu = compute_mu(counter_prev_2, lf_adjusted_output_2)\n",
    "print(f\"Computed Timing Offset: {mu} symbols\")"
   ]
  },
  {
   "cell_type": "markdown",
   "metadata": {},
   "source": [
    "#### Sample Selection\n",
    "\n",
    "In the complete SCS subsystem diagram, input data is received at a rate of 2 samples per symbol, while the desired output is 1 sample per symbol. After the timing offset adjustment is applied, the final downsampling is handled by the select sample module. This module permits a sample to pass only when a strobe is activated. The process ensures that all components of the system are synchronized via the mod-1 decrementing counter. This output is then streamed to the subsequent stages of the receiver architecture."
   ]
  },
  {
   "cell_type": "markdown",
   "metadata": {},
   "source": [
    "&nbsp;\n",
    "### QPSK Integration\n",
    "\n",
    "The PLL described above serves as the foundation for symbol timing synchronization in a quadrature communication receiver. Figure 7 below demonstrates its integration into a QPSK system.\n",
    "\n",
    "<div style=\"text-align: center;\">\n",
    "    <img src=\"./images/SCS/scs_full_system_diagram.png\" alt=\"\" width=\"1500\" />\n",
    "    <p style=\"text-align: center;\">Figure 7: QPSK Receiver SCS Placement</p>\n",
    "</div>"
   ]
  },
  {
   "cell_type": "markdown",
   "metadata": {},
   "source": [
    "&nbsp;\n",
    "### Transmitter\n",
    "\n",
    "The QPSK tranmitter can be simulated similarly to as done in the *QPSK.ipynb* notebook example. This process is summarized below."
   ]
  },
  {
   "cell_type": "markdown",
   "metadata": {},
   "source": [
    "#### Bit to Symbol Mapping"
   ]
  },
  {
   "cell_type": "code",
   "execution_count": null,
   "metadata": {},
   "outputs": [],
   "source": [
    "qpsk_constellation = [[complex( np.sqrt(1) +  np.sqrt(1)*1j), 3], \n",
    "                    [complex( np.sqrt(1) + -np.sqrt(1)*1j), 2], \n",
    "                    [complex(-np.sqrt(1) + -np.sqrt(1)*1j), 0], \n",
    "                    [complex(-np.sqrt(1) +  np.sqrt(1)*1j), 1]]\n",
    "fs = 8 # sample rate\n",
    "fc = .25 * fs # carrier frequency\n",
    "noise = 2*(10**-4) # system noise\n",
    "input_message_ascii = \"this is a qpsk transceiver test!\"\n",
    "\n",
    "# mapping the ascii characters to binary\n",
    "input_message_bins = ''.join(sp.string_to_ascii_binary(input_message_ascii))\n",
    "\n",
    "# grouping the binary into blocks of two bits\n",
    "input_message_blocks = [input_message_bins[i:i+2] for i in range(0, len(input_message_bins), 2)]\n",
    "\n",
    "# mapping each block to a symbol in the constellation\n",
    "input_message_symbols = [int(bin2, 2) for bin2 in input_message_blocks]\n",
    "\n",
    "bits_to_amplitude = {bit: amplitude for amplitude, bit in qpsk_constellation}\n",
    "\n",
    "# inphase channel symbol mapping\n",
    "xk = np.real([bits_to_amplitude[symbol] for symbol in input_message_symbols])\n",
    "\n",
    "# quadrature channel symbol mapping\n",
    "yk = np.imag([bits_to_amplitude[symbol] for symbol in input_message_symbols])"
   ]
  },
  {
   "cell_type": "markdown",
   "metadata": {},
   "source": [
    "#### Adding Header"
   ]
  },
  {
   "cell_type": "code",
   "execution_count": null,
   "metadata": {},
   "outputs": [],
   "source": [
    "# adding header to each channel\n",
    "header = [1,0] * 50\n",
    "xk = np.concatenate([header, xk])\n",
    "yk = np.concatenate([header, yk])"
   ]
  },
  {
   "cell_type": "markdown",
   "metadata": {},
   "source": [
    "#### Upsampling"
   ]
  },
  {
   "cell_type": "code",
   "execution_count": null,
   "metadata": {},
   "outputs": [],
   "source": [
    "xk_upsampled = sp.upsample(xk, fs, interpolate_flag=False)\n",
    "yk_upsampled = sp.upsample(yk, fs, interpolate_flag=False)"
   ]
  },
  {
   "cell_type": "markdown",
   "metadata": {},
   "source": [
    "#### Introducing a Timing Offset\n",
    "\n",
    "A timing offset is introduced to the upsampled symbols in the transmitter using two methods. The first method involves offsetting the signal's sample timings by interpolating and selecting an intermediate periodic sample to represent the entire signal. The second method creates an offset in the symbol spacing by removing a small segment of the input samples, which the SCS will later correct. Both methods can be adjusted in the following example."
   ]
  },
  {
   "cell_type": "code",
   "execution_count": null,
   "metadata": {},
   "outputs": [],
   "source": [
    "timing_offset = 0.0\n",
    "sample_shift = 1\n",
    "\n",
    "xk_upsampled = sp.clock_offset(xk_upsampled, fs, timing_offset)[sample_shift:]\n",
    "yk_upsampled = sp.clock_offset(yk_upsampled, fs, timing_offset)[sample_shift:]"
   ]
  },
  {
   "cell_type": "markdown",
   "metadata": {},
   "source": [
    "#### Pulse Shaping"
   ]
  },
  {
   "cell_type": "code",
   "execution_count": null,
   "metadata": {},
   "outputs": [],
   "source": [
    "length = 64\n",
    "alpha = 0.10\n",
    "pulse_shape = sp.srrc(alpha, fs, length)\n",
    "\n",
    "xk_pulse_shaped = np.real(sp.convolve(xk_upsampled, pulse_shape, mode=\"same\")[1:])\n",
    "yk_pulse_shaped = np.real(sp.convolve(yk_upsampled, pulse_shape, mode=\"same\")[1:])"
   ]
  },
  {
   "cell_type": "markdown",
   "metadata": {},
   "source": [
    "#### Digital Modulation"
   ]
  },
  {
   "cell_type": "code",
   "execution_count": null,
   "metadata": {},
   "outputs": [],
   "source": [
    "s_rf = (\n",
    "    np.sqrt(2) * np.real(sp.modulate_by_exponential(xk_pulse_shaped, fc, fs, noise=noise)) +\n",
    "    np.sqrt(2) * np.imag(sp.modulate_by_exponential(yk_pulse_shaped, fc, fs, noise=noise))\n",
    ")"
   ]
  },
  {
   "cell_type": "markdown",
   "metadata": {},
   "source": [
    "&nbsp;\n",
    "### Receiver\n",
    "\n",
    "dont know what to say here"
   ]
  },
  {
   "cell_type": "markdown",
   "metadata": {},
   "source": [
    "#### Digital Demodulation"
   ]
  },
  {
   "cell_type": "code",
   "execution_count": null,
   "metadata": {},
   "outputs": [],
   "source": [
    "xr_nT = np.sqrt(2) * np.real(sp.modulate_by_exponential(s_rf, fc, fs))\n",
    "yr_nT = np.sqrt(2) * np.imag(sp.modulate_by_exponential(s_rf, fc, fs))"
   ]
  },
  {
   "cell_type": "markdown",
   "metadata": {},
   "source": [
    "#### Match Filtering"
   ]
  },
  {
   "cell_type": "code",
   "execution_count": null,
   "metadata": {},
   "outputs": [],
   "source": [
    "xr_nT_match_filtered = np.real(sp.convolve(xr_nT, pulse_shape, mode=\"same\")[1:])\n",
    "yr_nT_match_filtered = np.real(sp.convolve(yr_nT, pulse_shape, mode=\"same\")[1:])"
   ]
  },
  {
   "cell_type": "markdown",
   "metadata": {},
   "source": [
    "#### Down Sampling\n",
    "\n",
    "The matched filtered signal represented by $N$ samples per symbol is now downsampled by a factor of $\\frac{N}{2}$ producing a 2 samples per symbol representation."
   ]
  },
  {
   "cell_type": "code",
   "execution_count": null,
   "metadata": {},
   "outputs": [],
   "source": [
    "xr_nT_downsampled = sp.downsample(xr_nT_match_filtered, int(fs/2))\n",
    "yr_nT_downsampled = sp.downsample(yr_nT_match_filtered, int(fs/2))\n",
    "r_nT = (xr_nT_downsampled + 1j* yr_nT_downsampled)"
   ]
  },
  {
   "cell_type": "markdown",
   "metadata": {},
   "source": [
    "An excerpt from the downsampled signal as well as the complex constellations are plotted to illustrate the current state of the receive samples."
   ]
  },
  {
   "cell_type": "code",
   "execution_count": null,
   "metadata": {},
   "outputs": [],
   "source": [
    "plt.figure()\n",
    "plt.stem(yr_nT_downsampled[len(header)*2:(len(header)+5)*2])\n",
    "plt.title(\"Downsampled by N/2 Signal\")\n",
    "plt.xlabel(\"Sample Time [n]\")\n",
    "plt.ylabel(\"Amplutide [V]\")\n",
    "plt.show()\n",
    "\n",
    "# plot the downsampled constellation\n",
    "sp.plot_complex_points(r_nT, constellation=qpsk_constellation)"
   ]
  },
  {
   "cell_type": "markdown",
   "metadata": {},
   "source": [
    "&nbsp;\n",
    "#### Symbol Clock Synchronization\n",
    "\n",
    "A SCS object is first instantiated using the system samples per symbol, specified loop bandwidth, and damping factor."
   ]
  },
  {
   "cell_type": "code",
   "execution_count": null,
   "metadata": {},
   "outputs": [],
   "source": [
    "loop_bandwidth = (fc/fs)*0.0006\n",
    "damping_factor = 1/np.sqrt(2)"
   ]
  },
  {
   "cell_type": "markdown",
   "metadata": {},
   "source": [
    "Before running the subsystem, the maximum system gain must be measured and normalized. This is performed by running the PLL in open loop mode by setting the *open_loop* flag to *True* and recording the maximum value."
   ]
  },
  {
   "cell_type": "code",
   "execution_count": null,
   "metadata": {},
   "outputs": [],
   "source": [
    "scs = sp.SCS(samples_per_symbol=2, loop_bandwidth=loop_bandwidth, damping_factor=damping_factor, open_loop=True)\n",
    "\n",
    "max_lf_output = 0\n",
    "for i in range(len(r_nT)):\n",
    "    lf_output = scs.insert_new_sample(r_nT[i])\n",
    "    if lf_output > max_lf_output:\n",
    "        max_lf_output = lf_output\n",
    "\n",
    "print(f\"\\nSCS Measured System Gain: {1/max_lf_output}\\n\")"
   ]
  },
  {
   "cell_type": "markdown",
   "metadata": {},
   "source": [
    "The SCS module is then reinstantiated using this gain and run using the recieved input samples. The 1 sample per symbol constellation points are plotted to illustrate the subsystems performance."
   ]
  },
  {
   "cell_type": "code",
   "execution_count": null,
   "metadata": {},
   "outputs": [],
   "source": [
    "# running scs system\n",
    "scs = sp.SCS(samples_per_symbol=2, loop_bandwidth=loop_bandwidth, damping_factor=damping_factor, gain=42)\n",
    "\n",
    "corrected_constellations = []\n",
    "for i in range(len(r_nT)):\n",
    "    corrected_constellation = scs.insert_new_sample(r_nT[i])\n",
    "    if corrected_constellation is not None:\n",
    "        corrected_constellations.append(corrected_constellation)\n",
    "\n",
    "sp.plot_complex_points(corrected_constellations, constellation=qpsk_constellation)"
   ]
  },
  {
   "cell_type": "markdown",
   "metadata": {},
   "source": [
    "#### Symbol Decision\n",
    "The 1 sample per symbol synchronized SCS output can now be mapped back from constelation points to symbols via the nearest neighobor algorithm, this process is discussed more thoroughly in the *QPSK.ipynb* notebook."
   ]
  },
  {
   "cell_type": "code",
   "execution_count": null,
   "metadata": {},
   "outputs": [],
   "source": [
    "detected_symbols = sp.nearest_neighbor(corrected_constellations, qpsk_constellation)\n",
    "\n",
    "# removing header and adjusting for symbol timing synchronization delay\n",
    "detected_symbols = detected_symbols[len(header)+2:]\n",
    "\n",
    "error_count = sp.error_count(input_message_symbols, detected_symbols)\n",
    "\n",
    "print(f\"Transmission Symbol Errors: {error_count}\")\n",
    "print(f\"Bit Error Percentage: {round((error_count * 2) / len(detected_symbols), 2)} %\")"
   ]
  },
  {
   "cell_type": "markdown",
   "metadata": {},
   "source": [
    "Finally the estimated receive symbols are converted back to binar representation and the grouped into ascii characters."
   ]
  },
  {
   "cell_type": "code",
   "execution_count": null,
   "metadata": {},
   "outputs": [],
   "source": [
    "# converting symbols to binary then binary to ascii\n",
    "detected_bits = []\n",
    "for symbol in detected_symbols:\n",
    "    detected_bits += ([*bin(symbol)[2:].zfill(2)])\n",
    "\n",
    "message = sp.bin_to_char(detected_bits)\n",
    "print(message)"
   ]
  }
 ],
 "metadata": {
  "kernelspec": {
   "display_name": "Python 3 (ipykernel)",
   "language": "python",
   "name": "python3"
  },
  "language_info": {
   "codemirror_mode": {
    "name": "ipython",
    "version": 3
   },
   "file_extension": ".py",
   "mimetype": "text/x-python",
   "name": "python",
   "nbconvert_exporter": "python",
   "pygments_lexer": "ipython3",
   "version": "3.12.4"
  }
 },
 "nbformat": 4,
 "nbformat_minor": 4
}
