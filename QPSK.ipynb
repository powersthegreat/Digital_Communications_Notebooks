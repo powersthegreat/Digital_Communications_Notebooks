{
 "cells": [
  {
   "cell_type": "markdown",
   "metadata": {},
   "source": [
    "### QPSK Implementation\n",
    "\n",
    "The following quadrature phase shift keying (QPSK) example illustrates the fundamental elements of a digital quadrature communication system. This incorporates streamlined transmitter and receiver components which include bit-to-symbol mapping, upsampling and downsampling of the baseband signal, pulse shaping, and carrier frequency modulation and demodulation. The progression of these modules is summarized in Figure 1, and each will be discussed in the subsequent sections to demonstrate their functionality as well as the capabilities of the accompanying signal processing library.\n",
    "\n",
    "<div style=\"text-align: center;\">\n",
    "    <img src=\"./images/QPSK/qpsk_full_system_diagram.png\" alt=\"\" width=\"1000\" />\n",
    "    <p style=\"text-align: center;\">Figure 1: QPSK System Transmitter and Receiver Architecture</p>\n",
    "</div>"
   ]
  },
  {
   "cell_type": "markdown",
   "metadata": {},
   "source": [
    "#### System Configuration\n",
    "\n",
    "First, the developed signal processing library must be imported as well as plotting and linear algebras libraries to aid in later visualization of the system's internal variables."
   ]
  },
  {
   "cell_type": "code",
   "execution_count": null,
   "metadata": {},
   "outputs": [
    {
     "ename": "",
     "evalue": "",
     "output_type": "error",
     "traceback": [
      "\u001b[1;31mRunning cells with 'Python 3.12.4' requires the ipykernel package.\n",
      "\u001b[1;31mRun the following command to install 'ipykernel' into the Python environment. \n",
      "\u001b[1;31mCommand: '\"c:/Program Files/Python312/python.exe\" -m pip install ipykernel -U --user --force-reinstall'"
     ]
    }
   ],
   "source": [
    "from helper_functions import sp_library as sp\n",
    "sp.quiet_install(\"numpy\")\n",
    "sp.quiet_install(\"matplotlib\")\n",
    "import numpy as np\n",
    "import matplotlib.pyplot as plt"
   ]
  },
  {
   "cell_type": "markdown",
   "metadata": {},
   "source": [
    "Next, before the transmitter can be described, a set of system parameters must be configured to define the design. QPSK has already been selected as the modulation type, and the remaining system parameters are set below, including the corresponding constellation map, system noise $ N_o $, sample rate $ f_s $, carrier frequency $ f_c $, and the input message."
   ]
  },
  {
   "cell_type": "code",
   "execution_count": null,
   "metadata": {},
   "outputs": [
    {
     "ename": "",
     "evalue": "",
     "output_type": "error",
     "traceback": [
      "\u001b[1;31mRunning cells with 'Python 3.12.4' requires the ipykernel package.\n",
      "\u001b[1;31mRun the following command to install 'ipykernel' into the Python environment. \n",
      "\u001b[1;31mCommand: '\"c:/Program Files/Python312/python.exe\" -m pip install ipykernel -U --user --force-reinstall'"
     ]
    }
   ],
   "source": [
    "qpsk_constellation = [[complex( np.sqrt(1) +  np.sqrt(1)*1j), 3], \n",
    "                      [complex( np.sqrt(1) + -np.sqrt(1)*1j), 2], \n",
    "                      [complex(-np.sqrt(1) + -np.sqrt(1)*1j), 0], \n",
    "                      [complex(-np.sqrt(1) +  np.sqrt(1)*1j), 1]]\n",
    "noise = 2*(10**-4)\n",
    "fs = 8\n",
    "fc = .25 * fs\n",
    "input_message_ascii = \"this is a qpsk transceiver test!\""
   ]
  },
  {
   "cell_type": "markdown",
   "metadata": {},
   "source": [
    "&nbsp;\n",
    "### Transmitter Architecture\n",
    "\n",
    "#### Bit to Symbol Mapping\n",
    "\n",
    "Binary-to-symbol mapping is typically performed using lookup tables (LUT). For this example, the previously defined simple 2-D constellation will suffice as that LUT. The input message, represented by ASCII characters, must first be converted into a binary stream, then segmented into groups of two bits for the QPSK symbol mapping."
   ]
  },
  {
   "cell_type": "code",
   "execution_count": null,
   "metadata": {},
   "outputs": [
    {
     "ename": "",
     "evalue": "",
     "output_type": "error",
     "traceback": [
      "\u001b[1;31mRunning cells with 'Python 3.12.4' requires the ipykernel package.\n",
      "\u001b[1;31mRun the following command to install 'ipykernel' into the Python environment. \n",
      "\u001b[1;31mCommand: '\"c:/Program Files/Python312/python.exe\" -m pip install ipykernel -U --user --force-reinstall'"
     ]
    }
   ],
   "source": [
    "# mapping the ascii characters to binary\n",
    "input_message_bits = ''.join(sp.string_to_ascii_binary(input_message_ascii))\n",
    "\n",
    "# grouping the binary into blocks of two bits\n",
    "input_message_blocks = [input_message_bits[i:i+2] for i in range(0, len(input_message_bits), 2)]\n",
    "\n",
    "# mapping each block to a symbol in the constellation\n",
    "input_message_symbols = [int(bit2, 2) for bit2 in input_message_blocks]"
   ]
  },
  {
   "cell_type": "markdown",
   "metadata": {},
   "source": [
    "The symbols representing the input message are then mapped onto the in-phase and quadrature channels using the previously defined constellation. Additionally, a header is appended at this stage, providing the system's modules with a warm-up period before the actual message is processed. This helps to mitigate any irregularities that may occur during system startup."
   ]
  },
  {
   "cell_type": "code",
   "execution_count": null,
   "metadata": {},
   "outputs": [
    {
     "ename": "",
     "evalue": "",
     "output_type": "error",
     "traceback": [
      "\u001b[1;31mRunning cells with 'Python 3.12.4' requires the ipykernel package.\n",
      "\u001b[1;31mRun the following command to install 'ipykernel' into the Python environment. \n",
      "\u001b[1;31mCommand: '\"c:/Program Files/Python312/python.exe\" -m pip install ipykernel -U --user --force-reinstall'"
     ]
    }
   ],
   "source": [
    "bits_to_amplitude = {bit: amplitude for amplitude, bit in qpsk_constellation}\n",
    "\n",
    "# inphase channel symbol mapping\n",
    "xk = np.real([bits_to_amplitude[symbol] for symbol in input_message_symbols])\n",
    "\n",
    "# quadrature channel symbol mapping\n",
    "yk = np.imag([bits_to_amplitude[symbol] for symbol in input_message_symbols])\n",
    "\n",
    "# adding header to each channel\n",
    "header = [1, 0] * 50\n",
    "xk = np.concatenate([header, xk])\n",
    "yk = np.concatenate([header, yk])"
   ]
  },
  {
   "cell_type": "markdown",
   "metadata": {},
   "source": [
    "An excerpt from the message signal is plotted below as well as some of the system configuration parameters printed."
   ]
  },
  {
   "cell_type": "code",
   "execution_count": null,
   "metadata": {},
   "outputs": [
    {
     "ename": "",
     "evalue": "",
     "output_type": "error",
     "traceback": [
      "\u001b[1;31mRunning cells with 'Python 3.12.4' requires the ipykernel package.\n",
      "\u001b[1;31mRun the following command to install 'ipykernel' into the Python environment. \n",
      "\u001b[1;31mCommand: '\"c:/Program Files/Python312/python.exe\" -m pip install ipykernel -U --user --force-reinstall'"
     ]
    }
   ],
   "source": [
    "print(f\"\\nHeader Length: {len(header)} symbols\")\n",
    "print(f\"Message Length: {len(xk)} symbols\")\n",
    "print(f\"Sample Rate: {fs} samples per symbol\")\n",
    "print(f\"Carrier Frequency: {fc} Hz\\n\")\n",
    "\n",
    "# plot original symbols\n",
    "plt.figure()\n",
    "plt.stem(yk[len(header):len(header)+5])\n",
    "plt.title(\"Message Symbols\")\n",
    "plt.xlabel(\"Sample Time [n]\")\n",
    "plt.ylabel(\"Amplitude [V]\")\n",
    "plt.show()"
   ]
  },
  {
   "cell_type": "markdown",
   "metadata": {},
   "source": [
    "#### Upsampling\n",
    "\n",
    "The next step in the transmitter process is upsampling the message symbols using the predefined sample rate \\( f_s \\). Upsampling increases the signal’s sampling rate, providing finer resolution in symbol representation. This is crucial in digital communication systems, as it enables accurate pulse shaping and modulation, ensuring that the baseband signal is effectively represented. The upsampling process is mathmatically represented below:\n",
    "\n",
    "$$\n",
    "x\\left(nT_s\\right)\\:\\rightarrow \\:x_{upsampled}\\left(\\frac{nT_s}{N}\\right)\\:\\rightarrow \\:\\:x\\left(nT_N\\right)\n",
    "$$\n",
    "\n",
    "where: \n",
    "- $ N $ is the upsample rate,\n",
    "- $ T_s $ is the sample duration, \n",
    "- $ n $ is the sample index,\n",
    "- $T_N$ is the upsampled sample duration."
   ]
  },
  {
   "cell_type": "code",
   "execution_count": null,
   "metadata": {},
   "outputs": [
    {
     "ename": "",
     "evalue": "",
     "output_type": "error",
     "traceback": [
      "\u001b[1;31mRunning cells with 'Python 3.12.4' requires the ipykernel package.\n",
      "\u001b[1;31mRun the following command to install 'ipykernel' into the Python environment. \n",
      "\u001b[1;31mCommand: '\"c:/Program Files/Python312/python.exe\" -m pip install ipykernel -U --user --force-reinstall'"
     ]
    }
   ],
   "source": [
    "xk_upsampled = sp.upsample(xk, fs)\n",
    "yk_upsampled = sp.upsample(yk, fs)"
   ]
  },
  {
   "cell_type": "markdown",
   "metadata": {},
   "source": [
    "An excerpt of the upsampled signal is plotted below, along with a constellation diagram of the in-phase and quadrature components. Since no noise has been introduced into the system, all the constellation points align perfectly with the ideal constellation."
   ]
  },
  {
   "cell_type": "code",
   "execution_count": null,
   "metadata": {},
   "outputs": [
    {
     "ename": "",
     "evalue": "",
     "output_type": "error",
     "traceback": [
      "\u001b[1;31mRunning cells with 'Python 3.12.4' requires the ipykernel package.\n",
      "\u001b[1;31mRun the following command to install 'ipykernel' into the Python environment. \n",
      "\u001b[1;31mCommand: '\"c:/Program Files/Python312/python.exe\" -m pip install ipykernel -U --user --force-reinstall'"
     ]
    }
   ],
   "source": [
    "# plot upsampled symbols\n",
    "plt.figure()\n",
    "plt.stem(yk_upsampled[len(header)*fs:(len(header)+5)*fs])\n",
    "plt.title(\"Upsampled Symbols\")\n",
    "plt.xlabel(\"Sample Time [n]\")\n",
    "plt.ylabel(\"Amplutide [V]\")\n",
    "plt.show()\n",
    "\n",
    "# plot upsampled constellation\n",
    "sp.plot_complex_points((xk_upsampled + 1j*yk_upsampled), constellation=qpsk_constellation)"
   ]
  },
  {
   "cell_type": "markdown",
   "metadata": {},
   "source": [
    "#### Pulse Shaping\n",
    "\n",
    "Pulse shaping involves applying techniques such as windowing, sample-and-hold, or other methods to the upsampled signal to modify the waveform's envelope. This process is crucial in controlling the signal's bandwidth and mitigating unwanted spectral components. One of the primary goals of pulse shaping is to minimize intersymbol interference (ISI), which occurs when signals from adjacent symbols overlap, leading to distortion and potential errors in decoding.\n",
    "\n",
    "In digital communication systems, the square root raised cosine (SRRC) filter is commonly employed for pulse shaping due to its effectiveness in reducing ISI while maintaining a compact signal spectrum. The SRRC pulse is characterized by its impulse response, roll-off factor $ \\alpha $, and $length$. The roll-off factor $ \\alpha $ controls the excess bandwidth beyond the Nyquist bandwidth, with a lower $ \\alpha $ resulting in a narrower bandwidth and a sharper transition between symbols. The SRRC pulse shape filter is mathmatically represented below.\n",
    "\n",
    "$$\n",
    "p\\left(nT_s\\right)=\\frac{1}{\\sqrt{N}}\\cdot \\frac{sin\\left(\\frac{\\pi \\left(1-\\alpha \\right)n}{N}\\right)+\\frac{4\\alpha n}{N}cos\\left(\\frac{\\pi \\left(1+\\alpha \\right)n}{N}\\right)}{\\frac{\\pi n}{N}\\cdot \\left[1-\\left(\\frac{4\\alpha n}{N}\\right)^2\\right]}\n",
    "$$\n",
    "\n",
    "where: \n",
    "- $ N $ is the upsample rate,\n",
    "- $ T_s $ is the sample duration, \n",
    "- $ n $ is the sample index,\n",
    "- $ \\alpha $ is the roll-off factor (0 ≤ $ \\alpha $ ≤ 1).\n",
    "\n",
    "The SRRC parameters are defined below and then the resulting filter plotted to visualize the effect of different filter lengths and roll-off factors."
   ]
  },
  {
   "cell_type": "code",
   "execution_count": null,
   "metadata": {},
   "outputs": [
    {
     "ename": "",
     "evalue": "",
     "output_type": "error",
     "traceback": [
      "\u001b[1;31mRunning cells with 'Python 3.12.4' requires the ipykernel package.\n",
      "\u001b[1;31mRun the following command to install 'ipykernel' into the Python environment. \n",
      "\u001b[1;31mCommand: '\"c:/Program Files/Python312/python.exe\" -m pip install ipykernel -U --user --force-reinstall'"
     ]
    }
   ],
   "source": [
    "length = 64\n",
    "alpha = 0.10\n",
    "pulse_shape = sp.srrc(alpha, fs, length)"
   ]
  },
  {
   "cell_type": "code",
   "execution_count": null,
   "metadata": {},
   "outputs": [
    {
     "ename": "",
     "evalue": "",
     "output_type": "error",
     "traceback": [
      "\u001b[1;31mRunning cells with 'Python 3.12.4' requires the ipykernel package.\n",
      "\u001b[1;31mRun the following command to install 'ipykernel' into the Python environment. \n",
      "\u001b[1;31mCommand: '\"c:/Program Files/Python312/python.exe\" -m pip install ipykernel -U --user --force-reinstall'"
     ]
    }
   ],
   "source": [
    "print(f\"\\nFilter Length: {length} samples\")\n",
    "print(f\"Message Length: {alpha} percent\")\n",
    "print(f\"Sample Rate: {fs} samples per symbol\\n\")\n",
    "\n",
    "plt.figure()\n",
    "plt.stem(pulse_shape)\n",
    "\n",
    "# adding indications of sample rate multiples\n",
    "for i in range(0, length, fs):\n",
    "    plt.axvline(x=i, color='red', linestyle='--', label='Sample Rate Indicator' if i == 0 else \"\")\n",
    "\n",
    "plt.title(\"SRRC Pulse Shape\")\n",
    "plt.xlabel(\"Samples\")\n",
    "plt.ylabel(\"Amplitude\")\n",
    "plt.legend()\n",
    "plt.show()"
   ]
  },
  {
   "cell_type": "markdown",
   "metadata": {},
   "source": [
    "The defined SRRC pulse shape is then applied to the upsampled message signal as well as a excerpt plotted."
   ]
  },
  {
   "cell_type": "code",
   "execution_count": null,
   "metadata": {},
   "outputs": [
    {
     "ename": "",
     "evalue": "",
     "output_type": "error",
     "traceback": [
      "\u001b[1;31mRunning cells with 'Python 3.12.4' requires the ipykernel package.\n",
      "\u001b[1;31mRun the following command to install 'ipykernel' into the Python environment. \n",
      "\u001b[1;31mCommand: '\"c:/Program Files/Python312/python.exe\" -m pip install ipykernel -U --user --force-reinstall'"
     ]
    }
   ],
   "source": [
    "xk_pulse_shaped = np.real(sp.convolve(xk_upsampled, pulse_shape, mode=\"same\")[1:])\n",
    "yk_pulse_shaped = np.real(sp.convolve(yk_upsampled, pulse_shape, mode=\"same\")[1:])"
   ]
  },
  {
   "cell_type": "code",
   "execution_count": null,
   "metadata": {},
   "outputs": [
    {
     "ename": "",
     "evalue": "",
     "output_type": "error",
     "traceback": [
      "\u001b[1;31mRunning cells with 'Python 3.12.4' requires the ipykernel package.\n",
      "\u001b[1;31mRun the following command to install 'ipykernel' into the Python environment. \n",
      "\u001b[1;31mCommand: '\"c:/Program Files/Python312/python.exe\" -m pip install ipykernel -U --user --force-reinstall'"
     ]
    }
   ],
   "source": [
    "# plot pulse shaped signal\n",
    "plt.figure()\n",
    "plt.stem(yk_pulse_shaped[len(header)*fs:(len(header)+5)*fs])\n",
    "plt.title(\"Pulse Shaped Signal\")\n",
    "plt.xlabel(\"Sample Time [n]\")\n",
    "plt.ylabel(\"Amplutide [V]\")\n",
    "plt.show()"
   ]
  },
  {
   "cell_type": "markdown",
   "metadata": {},
   "source": [
    "#### Digital Modulation\n",
    "\n",
    "Digital modulation encompasses the process of mixing the upsampled and now pulse shaped signal with a carrier, usually at some predefined radio frequency (RF). This is performed below via multiplication with a complex exponential representing two orthogonal sinusoids, one for the in-phase channel and one for the quadrature. The resulting RF signal is mathmatically defined below.\n",
    "\n",
    "$$\n",
    "s_{RF}\\left(nT_s\\right) = Re\\left\\{x\\left(nT_s\\right) \\cdot e^{j\\theta}\\right\\} + Im\\left\\{y\\left(nT_s\\right) \\cdot e^{j\\theta}\\right\\}\n",
    "$$\n",
    "\n",
    "$$\n",
    "\\theta = 2\\pi \\:\\frac{f_c}{f_s}\\:nT_s + \\phi_c\n",
    "$$\n",
    "\n",
    "where:\n",
    "- $f_c$ is the previously defined carrier frequency,\n",
    "- $f_s$ is the system sample rate,\n",
    "- $\\phi_c$ represents the carrier phase offset,\n",
    "- the factor $\\sqrt{2}$ is applied in both the modulator and demodulator to offset the $\\frac{1}{2}$ terms that result from the trigonometric double-angle identities used in the process."
   ]
  },
  {
   "cell_type": "code",
   "execution_count": null,
   "metadata": {},
   "outputs": [
    {
     "ename": "",
     "evalue": "",
     "output_type": "error",
     "traceback": [
      "\u001b[1;31mRunning cells with 'Python 3.12.4' requires the ipykernel package.\n",
      "\u001b[1;31mRun the following command to install 'ipykernel' into the Python environment. \n",
      "\u001b[1;31mCommand: '\"c:/Program Files/Python312/python.exe\" -m pip install ipykernel -U --user --force-reinstall'"
     ]
    }
   ],
   "source": [
    "s_rf = (\n",
    "    np.sqrt(2) * np.real(sp.modulate_by_exponential(xk_pulse_shaped, fc, fs, phase=0, noise=noise)) +\n",
    "    np.sqrt(2) * np.imag(sp.modulate_by_exponential(yk_pulse_shaped, fc, fs, phase=0, noise=noise))\n",
    ")"
   ]
  },
  {
   "cell_type": "markdown",
   "metadata": {},
   "source": [
    "An excerpt is plotted below to visualize the result of the digital modulation process."
   ]
  },
  {
   "cell_type": "code",
   "execution_count": null,
   "metadata": {},
   "outputs": [
    {
     "ename": "",
     "evalue": "",
     "output_type": "error",
     "traceback": [
      "\u001b[1;31mRunning cells with 'Python 3.12.4' requires the ipykernel package.\n",
      "\u001b[1;31mRun the following command to install 'ipykernel' into the Python environment. \n",
      "\u001b[1;31mCommand: '\"c:/Program Files/Python312/python.exe\" -m pip install ipykernel -U --user --force-reinstall'"
     ]
    }
   ],
   "source": [
    "print(f\"Oscillator Frequency: {fc} Hz\")\n",
    "\n",
    "# plot modulated RF signal\n",
    "plt.figure()\n",
    "plt.stem(s_rf[len(header)*fs:(len(header)+5)*fs])\n",
    "plt.title(\"Modulated Signal\")\n",
    "plt.xlabel(\"Sample Time [n]\")\n",
    "plt.ylabel(\"Amplutide [V]\")\n",
    "plt.show()"
   ]
  },
  {
   "cell_type": "markdown",
   "metadata": {},
   "source": [
    "In practical systems, a Digital-to-Analog Converter (DAC) follows this step to enable over-the-air transmission, utilizing its own distinct sampling and mixing parameters. At the receiver, a corresponding Analog-to-Digital Converter (ADC) would ideally be synchronized with the transmitter in terms of sample rates and mixing parameters. For simplicity, these components are omitted in this example but will be reintroduced in future examples.\n",
    "\n",
    "<div style=\"text-align: center;\">\n",
    "    <img src=\"./images/QPSK/qpsk_adc_dac_diagram.png\" alt=\"\" width=\"750\" />\n",
    "    <p style=\"text-align: center;\">Figure 2: DAC and ADC Sampling Effects</p>\n",
    "</div>\n"
   ]
  },
  {
   "cell_type": "markdown",
   "metadata": {},
   "source": [
    "&nbsp;\n",
    "### Receiver Architecture\n",
    "\n",
    "#### Digital Demodulation\n",
    "\n",
    "Similar to the modulation peformed at the transmitter, the receiver uses the same architecture to demodulated the RF signal. This process is mathmatically defined below using the multiplication of a complex exponential where $\\theta$ is defined the same as in the transmitter.\n",
    "\n",
    "$$\n",
    "Re\\left\\{s_{RF}\\left(nT\\right)\\cdot \\:\\:exp\\left(j\\theta \\right)\\right\\}\\:=\\:s_{real}\\left(nT\\right)+s_{real}\\left(nT\\right)cos\\left(2\\theta \\right)+s_{real}\\left(nT\\right)sin\\left(2\\theta \\right)\n",
    "$$\n",
    "\n",
    "$$\n",
    "Im\\left\\{s_{RF}\\left(nT\\right)\\cdot \\:\\:exp\\left(j\\theta \\right)\\right\\}\\:=\\:s_{imag}\\left(nT\\right)-s_{imag}\\left(nT\\right)cos\\left(2\\theta \\right)+s_{imag}\\left(nT\\right)sin\\left(2\\theta \\right)\n",
    "$$\n",
    "\n",
    "$$\n",
    "\\theta = 2\\pi \\:\\frac{f_c}{f_s}\\:nT_s + \\phi_c\n",
    "$$\n",
    "\n",
    "In both cases match filtering removes the double frequency terms leaving the baseband signal."
   ]
  },
  {
   "cell_type": "code",
   "execution_count": null,
   "metadata": {},
   "outputs": [
    {
     "ename": "",
     "evalue": "",
     "output_type": "error",
     "traceback": [
      "\u001b[1;31mRunning cells with 'Python 3.12.4' requires the ipykernel package.\n",
      "\u001b[1;31mRun the following command to install 'ipykernel' into the Python environment. \n",
      "\u001b[1;31mCommand: '\"c:/Program Files/Python312/python.exe\" -m pip install ipykernel -U --user --force-reinstall'"
     ]
    }
   ],
   "source": [
    "xr_nT = np.sqrt(2) * np.real(sp.modulate_by_exponential(s_rf, fc, fs, phase=0, noise=noise))\n",
    "yr_nT = np.sqrt(2) * np.imag(sp.modulate_by_exponential(s_rf, fc, fs, phase=0, noise=noise))"
   ]
  },
  {
   "cell_type": "markdown",
   "metadata": {},
   "source": [
    "An excerpt is plotted below to visualize the result of the digital demodulation process."
   ]
  },
  {
   "cell_type": "code",
   "execution_count": null,
   "metadata": {},
   "outputs": [
    {
     "ename": "",
     "evalue": "",
     "output_type": "error",
     "traceback": [
      "\u001b[1;31mRunning cells with 'Python 3.12.4' requires the ipykernel package.\n",
      "\u001b[1;31mRun the following command to install 'ipykernel' into the Python environment. \n",
      "\u001b[1;31mCommand: '\"c:/Program Files/Python312/python.exe\" -m pip install ipykernel -U --user --force-reinstall'"
     ]
    }
   ],
   "source": [
    "print(f\"Oscillator Frequency: {fc} Hz\")\n",
    "\n",
    "# plot demodulated signal\n",
    "plt.figure()\n",
    "plt.stem(yr_nT[len(header)*fs:(len(header)+5)*fs])\n",
    "plt.title(\"Demodulated Signal\")\n",
    "plt.xlabel(\"Sample Time [n]\")\n",
    "plt.ylabel(\"Amplutide [V]\")\n",
    "plt.show()"
   ]
  },
  {
   "cell_type": "markdown",
   "metadata": {},
   "source": [
    "#### Match Filtering\n",
    "\n",
    "Matched filtering is a pulse compression technique employed to maximize the signal-to-noise ratio (SNR) of the received signal, enhancing the detection of the transmitted symbols in the presence of noise. This technique involves filtering the received signal with the time-reversed and complex conjugate of the pulse shape used during transmission. For this example, the matched filter corresponds to the previously defined square root raised cosine (SRRC) filter.\n",
    "\n",
    "The primary advantage of matched filtering is that it optimizes the SNR at the sampling instants, which is critical for accurate symbol detection. By correlating the received signal with the expected pulse shape, the matched filter effectively compresses the energy of each symbol into a narrow peak at the symbol timing, while simultaneously minimizing the impact of noise and intersymbol interference (ISI) from adjacent symbols. This process is represented mathmatically below.\n",
    "\n",
    "$$\n",
    "\\:x_{mf}\\left(nT\\right)=conv\\left(s_{real}\\left(nT\\right),\\:\\:p^{\\ast \\:}\\left(-nT\\right)\\right)\n",
    "$$\n",
    "\n",
    "$$\n",
    "\\:y_{mf}\\left(nT\\right)=conv\\left(s_{imag}\\left(nT\\right),\\:\\:p^{\\ast \\:}\\left(-nT\\right)\\right)\n",
    "$$"
   ]
  },
  {
   "cell_type": "code",
   "execution_count": null,
   "metadata": {},
   "outputs": [
    {
     "ename": "",
     "evalue": "",
     "output_type": "error",
     "traceback": [
      "\u001b[1;31mRunning cells with 'Python 3.12.4' requires the ipykernel package.\n",
      "\u001b[1;31mRun the following command to install 'ipykernel' into the Python environment. \n",
      "\u001b[1;31mCommand: '\"c:/Program Files/Python312/python.exe\" -m pip install ipykernel -U --user --force-reinstall'"
     ]
    }
   ],
   "source": [
    "xr_nT_match_filtered = np.real(sp.convolve(xr_nT, pulse_shape, mode=\"same\")[1:])\n",
    "yr_nT_match_filtered = np.real(sp.convolve(yr_nT, pulse_shape, mode=\"same\")[1:])"
   ]
  },
  {
   "cell_type": "markdown",
   "metadata": {},
   "source": [
    "An excerpt from the mmatch filtered signal is plotted below for visualization."
   ]
  },
  {
   "cell_type": "code",
   "execution_count": null,
   "metadata": {},
   "outputs": [
    {
     "ename": "",
     "evalue": "",
     "output_type": "error",
     "traceback": [
      "\u001b[1;31mRunning cells with 'Python 3.12.4' requires the ipykernel package.\n",
      "\u001b[1;31mRun the following command to install 'ipykernel' into the Python environment. \n",
      "\u001b[1;31mCommand: '\"c:/Program Files/Python312/python.exe\" -m pip install ipykernel -U --user --force-reinstall'"
     ]
    }
   ],
   "source": [
    "# plot match filtered signal\n",
    "plt.figure()\n",
    "plt.stem(yr_nT_match_filtered[len(header)*fs:(len(header)+5)*fs])\n",
    "plt.title(\"Match Filtered Signal\")\n",
    "plt.xlabel(\"Sample Time [n]\")\n",
    "plt.ylabel(\"Amplutide [V]\")\n",
    "plt.show()"
   ]
  },
  {
   "cell_type": "markdown",
   "metadata": {},
   "source": [
    "#### Downsampling\n",
    "\n",
    "Since the developed system is fully synchronized, with no frequency, phase, or timing offsets introduced, direct downsampling can be employed to select the desired sample points. Downsampling reduces the sampling rate by selecting a subset of samples from the upsampled signal, effectively converting the high-rate signal back to a lower rate that matches the symbol rate of the original data. This process is mathmatically defined below\n",
    "\n",
    "$$\n",
    "x\\left(nT_s\\right)\\:\\rightarrow \\:x_{downsampled}\\left(nT_s\\cdot N\\right)\n",
    "$$\n",
    "\n",
    "where:\n",
    "- $N $ is the down sample rate which matches the selected upsample rate used during transmission."
   ]
  },
  {
   "cell_type": "code",
   "execution_count": null,
   "metadata": {},
   "outputs": [
    {
     "ename": "",
     "evalue": "",
     "output_type": "error",
     "traceback": [
      "\u001b[1;31mRunning cells with 'Python 3.12.4' requires the ipykernel package.\n",
      "\u001b[1;31mRun the following command to install 'ipykernel' into the Python environment. \n",
      "\u001b[1;31mCommand: '\"c:/Program Files/Python312/python.exe\" -m pip install ipykernel -U --user --force-reinstall'"
     ]
    }
   ],
   "source": [
    "xk = sp.downsample(xr_nT_match_filtered, fs)\n",
    "yk= sp.downsample(yr_nT_match_filtered, fs)\n",
    "\n",
    "# combinding inphase and quadrature signal components\n",
    "rk = xk + 1j * yk"
   ]
  },
  {
   "cell_type": "markdown",
   "metadata": {},
   "source": [
    "The downsampled received constellation points are plotted below."
   ]
  },
  {
   "cell_type": "code",
   "execution_count": null,
   "metadata": {},
   "outputs": [
    {
     "ename": "",
     "evalue": "",
     "output_type": "error",
     "traceback": [
      "\u001b[1;31mRunning cells with 'Python 3.12.4' requires the ipykernel package.\n",
      "\u001b[1;31mRun the following command to install 'ipykernel' into the Python environment. \n",
      "\u001b[1;31mCommand: '\"c:/Program Files/Python312/python.exe\" -m pip install ipykernel -U --user --force-reinstall'"
     ]
    }
   ],
   "source": [
    "sp.plot_complex_points(rk, constellation=qpsk_constellation)"
   ]
  },
  {
   "cell_type": "markdown",
   "metadata": {},
   "source": [
    "#### Symbol Decision\n",
    "\n",
    "With the downsampled received signal prepared, it can now be mapped back from constellation points to symbols using a nearest neighbor algorithm. This process involves comparing each received constellation point with all possible points defined by the modulation scheme—in this case, four points for QPSK—and calculating the Euclidean distance between them. The symbol corresponding to the nearest constellation point is then selected as the decoded symbol. The nearest neighbor algorithm is detailed below\n",
    "$$\n",
    "  \\hat{s} = \\arg \\min_{s_i \\in S} \\| r - s_i \\|\n",
    "$$\n",
    "\n",
    "where:\n",
    "- $r$ is the received signal point in the complex plane,\n",
    "- $S = \\{s_1, s_2, \\ldots, s_M\\}$ is the set of all possible constellation points,\n",
    "- $\\| r - s_i \\| $ represents the Euclidian distance between $r$ and $s_i$,\n",
    "- $\\hat{s}$ is the estimated transmitted symbol.\n"
   ]
  },
  {
   "cell_type": "code",
   "execution_count": null,
   "metadata": {},
   "outputs": [
    {
     "ename": "",
     "evalue": "",
     "output_type": "error",
     "traceback": [
      "\u001b[1;31mRunning cells with 'Python 3.12.4' requires the ipykernel package.\n",
      "\u001b[1;31mRun the following command to install 'ipykernel' into the Python environment. \n",
      "\u001b[1;31mCommand: '\"c:/Program Files/Python312/python.exe\" -m pip install ipykernel -U --user --force-reinstall'"
     ]
    }
   ],
   "source": [
    "detected_symbols = sp.nearest_neighbor(rk[len(header):], qpsk_constellation)\n",
    "\n",
    "# calculating the error (mismatch) between the transmit and receive message\n",
    "error_count = sp.error_count(input_message_symbols, detected_symbols)\n",
    "print(f\"Transmission Symbol Errors: {error_count}\")\n",
    "print(f\"Bit Error Percentage: {round((error_count * 2) / len(detected_symbols), 2)} %\")\n"
   ]
  },
  {
   "cell_type": "markdown",
   "metadata": {},
   "source": [
    "The estimated receive symbols can now be converted back to binary representations and then grouped into ascii characters."
   ]
  },
  {
   "cell_type": "code",
   "execution_count": null,
   "metadata": {},
   "outputs": [
    {
     "ename": "",
     "evalue": "",
     "output_type": "error",
     "traceback": [
      "\u001b[1;31mRunning cells with 'Python 3.12.4' requires the ipykernel package.\n",
      "\u001b[1;31mRun the following command to install 'ipykernel' into the Python environment. \n",
      "\u001b[1;31mCommand: '\"c:/Program Files/Python312/python.exe\" -m pip install ipykernel -U --user --force-reinstall'"
     ]
    }
   ],
   "source": [
    "detected_bits = []\n",
    "for symbol in detected_symbols:\n",
    "    detected_bits += ([*bin(symbol)[2:].zfill(2)])\n",
    "\n",
    "message = sp.bin_to_char(detected_bits)\n",
    "print(\"\\n\"+message+\"\\n\")"
   ]
  }
 ],
 "metadata": {
  "kernelspec": {
   "display_name": "Python 3 (ipykernel)",
   "language": "python",
   "name": "python3"
  },
  "language_info": {
   "codemirror_mode": {
    "name": "ipython",
    "version": 3
   },
   "file_extension": ".py",
   "mimetype": "text/x-python",
   "name": "python",
   "nbconvert_exporter": "python",
   "pygments_lexer": "ipython3",
   "version": "3.12.4"
  }
 },
 "nbformat": 4,
 "nbformat_minor": 4
}
