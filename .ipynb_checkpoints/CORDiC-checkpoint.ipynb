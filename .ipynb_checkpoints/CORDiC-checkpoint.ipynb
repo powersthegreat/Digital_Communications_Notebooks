{
 "cells": [
  {
   "cell_type": "markdown",
   "metadata": {},
   "source": [
    "### CORDIC Algorithm"
   ]
  },
  {
   "cell_type": "markdown",
   "metadata": {},
   "source": [
    "#### Introduction\n",
    "\n",
    "- **What is CORDIC?**: The CORDIC algorithm is an iterative method used for computing a wide range of functions, including trigonometric, hyperbolic, exponential, logarithmic, and square roots, using only addition, subtraction, bit-shifting, and table lookup. It is particularly useful in systems where multiplication and division are expensive or not feasible, such as in embedded systems or hardware implementations.\n",
    "\n",
    "- **Historical Background**: Developed by Jack E. Volder in 1959 for real-time navigation and control in the B-58 bomber's radar system."
   ]
  },
  {
   "cell_type": "markdown",
   "metadata": {},
   "source": [
    "#### Mathematical Foundation\n",
    "\n",
    "- **Basic Idea:** The CORDIC algorithm works by rotating a vector in a plane to align it with a desired angle. This is done through a series of pre-calculated angle rotations.\n",
    "  \n",
    "- **Rotation Mode**: The algorithm can be used to compute trigonometric functions like sine and cosine by rotating the unit vector.\n",
    "  \n",
    "- **Vectoring Mode**: Used to compute the magnitude and phase (or arctangent) of a vector.\n",
    "\n",
    "- **CORDIC Equations**\n",
    "  - **General Rotation:**\n",
    "    $$\n",
    "    x_{i+1} = x_i - y_i \\cdot d_i \\cdot 2^{-i}\n",
    "    $$\n",
    "    $$\n",
    "    y_{i+1} = y_i + x_i \\cdot d_i \\cdot 2^{-i}\n",
    "    $$\n",
    "    $$\n",
    "    z_{i+1} = z_i - d_i \\cdot \\text{arctan}(2^{-i})\n",
    "    $$\n",
    "    $$\n",
    "    d_i = \\text{sign}(z_i)\n",
    "    $$\n",
    "\n",
    "  - **Precomputed Angles:**\n",
    "    $$ \\text{arctan}(2^{-i}) $$"
   ]
  },
  {
   "cell_type": "markdown",
   "metadata": {},
   "source": [
    "#### CORDIC Algorithm for Sine and Cosine\n",
    "\n",
    "- **Algorithm Steps**\n",
    "  1. Initialize $x_0 = 1$, $y_0 = 0$, and $z_0 = \\theta$.\n",
    "  2. Iterate through the CORDIC iterations.\n",
    "  3. Extract $\\cos(\\theta)$ and $\\sin(\\theta)$ from the final values of $x_n$ and $y_n$."
   ]
  },
  {
   "cell_type": "code",
   "execution_count": 5,
   "metadata": {},
   "outputs": [
    {
     "name": "stdout",
     "output_type": "stream",
     "text": [
      "Note: you may need to restart the kernel to use updated packages.\n",
      "cos(0.7853981633974483) = 0.7070958007911924, sin(0.7853981633974483) = 0.7071177614113949\n"
     ]
    }
   ],
   "source": [
    "%pip install -q numpy --disable-pip-version-check\n",
    "import numpy as np\n",
    "\n",
    "def cordic_sin_cos(theta, n_iter=16):\n",
    "    K = np.prod([np.sqrt(1 + 2**(-2 * i)) for i in range(n_iter)])\n",
    "    x, y, z = 1 / K, 0.0, theta\n",
    "    angles = [np.arctan(2**-i) for i in range(n_iter)]\n",
    "    \n",
    "    for i in range(n_iter):\n",
    "        d = -1 if z < 0 else 1\n",
    "        x_new = x - d * y * 2**-i\n",
    "        y_new = y + d * x * 2**-i\n",
    "        z -= d * angles[i]\n",
    "        x, y = x_new, y_new\n",
    "    \n",
    "    return x, y \n",
    "\n",
    "theta = np.pi / 4\n",
    "cos_theta, sin_theta = cordic_sin_cos(theta)\n",
    "print(f\"cos({theta}) = {cos_theta}, sin({theta}) = {sin_theta}\")"
   ]
  },
  {
   "cell_type": "markdown",
   "metadata": {},
   "source": [
    "#### CORDIC in Vectoring Mode (Arctangent and Magnitude)\n",
    "\n",
    "- **Algorithm Steps**\n",
    "  1. Initialize $x_0 = \\text{input}_x$, $y_0 = \\text{input}_y$, and $z_0 = 0$.\n",
    "  2. Rotate the vector until $y_n = 0$.\n",
    "  3. Extract the magnitude and angle from the final values of $x_n$ and $z_n$."
   ]
  },
  {
   "cell_type": "code",
   "execution_count": 7,
   "metadata": {},
   "outputs": [
    {
     "name": "stdout",
     "output_type": "stream",
     "text": [
      "Magnitude = -1.9049258073215993, Angle = -1.7432561028942164 radians\n"
     ]
    }
   ],
   "source": [
    "def cordic_vectoring(x, y, n_iter=16):\n",
    "    z = 0.0\n",
    "    angles = [np.arctan(2**-i) for i in range(n_iter)]\n",
    "    \n",
    "    for i in range(n_iter):\n",
    "        d = -1 if y < 0 else 1\n",
    "        x_new = x - d * y * 2**-i\n",
    "        y_new = y + d * x * 2**-i\n",
    "        z -= d * angles[i]\n",
    "        x, y = x_new, y_new\n",
    "    \n",
    "    magnitude = x\n",
    "    angle = z\n",
    "    return magnitude, angle  # Returns magnitude, angle (in radians)\n",
    "\n",
    "magnitude, angle = cordic_vectoring(1.0, 1.0)\n",
    "print(f\"Magnitude = {magnitude}, Angle = {angle} radians\")"
   ]
  },
  {
   "cell_type": "markdown",
   "metadata": {},
   "source": [
    "#### Applications\n",
    "\n",
    "- **Digital Signal Processing**: Efficient computation of FFTs, DCTs, and other transforms.\n",
    "\n",
    "- **Computer Graphics**: Used in 3D graphics pipelines for rotation, scaling, and perspective transformations.\n",
    "\n",
    "- **Embedded Systems**: Widely used in FPGA and ASIC designs for real-time processing.\n",
    "\n",
    "- **Communication Systems**: Used in modulators and demodulators for signal processing tasks."
   ]
  },
  {
   "cell_type": "markdown",
   "metadata": {},
   "source": [
    "#### Conclusion\n",
    "\n",
    "- **Advantages**: Efficient, simple hardware implementation, no need for multiplication or division.\n",
    "\n",
    "- **Limitations**: Slower convergence compared to some other algorithms. Requires careful handling of scaling factors."
   ]
  },
  {
   "cell_type": "code",
   "execution_count": null,
   "metadata": {},
   "outputs": [],
   "source": []
  }
 ],
 "metadata": {
  "kernelspec": {
   "display_name": "Python 3 (ipykernel)",
   "language": "python",
   "name": "python3"
  },
  "language_info": {
   "codemirror_mode": {
    "name": "ipython",
    "version": 3
   },
   "file_extension": ".py",
   "mimetype": "text/x-python",
   "name": "python",
   "nbconvert_exporter": "python",
   "pygments_lexer": "ipython3",
   "version": "3.12.4"
  }
 },
 "nbformat": 4,
 "nbformat_minor": 4
}
