{
 "cells": [
  {
   "cell_type": "markdown",
   "metadata": {},
   "source": [
    "### PLL Implementation\n",
    "\n",
    "The following phase-locked loop (PLL) subsystem demonstrates the fundamental components used to build a PLL and its application within a quadrature phase shift keying (QPSK) system. PLLs are used in communication systems for synchronizing an output signal with an input reference signal, particularly for correcting small, unknown phase and frequency offsets in the received signal. The first a phase detector module calculates the phase difference between the input reference signal and the PLL output, representing the instantaneous phase error. This phase error is then processed through a loop filter and subsequently fed into a digital direct synthesizer (DDS) that generates the corrected output signal. The process is illustrated in figure 1 below where both the input and output signals are represented as complex exponentials.\n",
    "\n",
    "<div style=\"text-align: center;\">\n",
    "    <img src=\"./images/PLL/pll_diagram.png\" alt=\"\" width=\"600\" />\n",
    "    <p style=\"text-align: center;\">Figure 1: PLL Subsystem Architecture</p>\n",
    "</div>\n",
    "\n",
    "The progression of each of these modules is discussed in the subsequent sections to demonstrate their functionality as well as the capablities of the accompanying signal processing library."
   ]
  },
  {
   "cell_type": "markdown",
   "metadata": {},
   "source": [
    "#### System Configuration\n",
    "\n",
    "Before describing the PLL further, the developed signal processing library, along with two additional libraries for plotting and linear algebra, must be imported. These libraries will be useful for the later visualization of the system's internal variables."
   ]
  },
  {
   "cell_type": "code",
   "execution_count": null,
   "metadata": {},
   "outputs": [],
   "source": [
    "%pip install -q numpy matplotlib scipy --disable-pip-version-check\n",
    "import numpy as np\n",
    "import matplotlib.pyplot as plt\n",
    "from helper_functions import sp_library as sp"
   ]
  },
  {
   "cell_type": "markdown",
   "metadata": {},
   "source": [
    "#### Phase Error Detector\n",
    "\n",
    "The phase error detector module takes two reference signals as input, computes their respective phases, and outputs the phase difference between them. This phase difference, known as the phase error, is used for synchronizing the output signal with the input reference signal in a PLL. To determine the phase of each signal, the module calculates the inverse tangent, using the CORDiC algorthim (see *CORDiC.ipynb*), of the ratio between the imaginary and real components of the complex signal points. This operation yields the phase angle of the signal within the range of $\\pi$ to $-\\pi$. However, because the inverse tangent function alone does not account for the correct quadrant of the signal in the complex plane, additional adjustments are made based on the sign of the real and imaginary components. This ensures that the calculated phase accurately reflects the position of the signal in its respective quadrant. This process is represented mathmatically below\n",
    "\n",
    "\n",
    "$$\n",
    "\\theta_o\\left(nT\\right)\\:=\\:\\tan^{-1}\\left(\\frac{x_{imag,o}\\left(nT\\right)}{x_{real,o}\\left(nT\\right)}\\right) \\theta_i\\left(nT\\right)\\:=\\:\\tan^{-1}\\left(\\frac{x_{imag,i}\\left(nT\\right)}{x_{real,i}\\left(nT\\right)}\\right)\n",
    "$$\n",
    "\n",
    "$$\n",
    "e\\left(nT\\right)=\\Delta \\theta\\left(nT\\right)=\\theta_o\\left(nT\\right)-\\theta_i\\left(nT\\right)\n",
    "$$\n",
    "\n",
    "where:\n",
    "- $i$ represents the input reference signal,\n",
    "- $o$ represents the output signal,\n",
    "- $nT$ is the instantaneous sample,\n",
    "- $e(nT)$ is the detected phase error.\n",
    "\n",
    "The following excerpt shoes the phase detector implementation later used in the full PLL subsystem. "
   ]
  },
  {
   "cell_type": "code",
   "execution_count": null,
   "metadata": {},
   "outputs": [],
   "source": [
    "def phase_error_detector(sample1, sample2):\n",
    "    angle = np.angle(sample2) - np.angle(sample1)\n",
    "    if angle > np.pi:\n",
    "        angle -= 2 * np.pi\n",
    "    elif angle < -np.pi:\n",
    "        angle += 2 * np.pi\n",
    "    return angle\n",
    "\n",
    "# test case 1\n",
    "sample1 = 0\n",
    "sample2 = 1 + 1j\n",
    "ped_output = phase_error_detector(sample1, sample2)\n",
    "print(f\"\\nTest case 1 output: {np.degrees(ped_output)} deg\")\n",
    "\n",
    "# test case 2\n",
    "sample1 = 1 - 1j\n",
    "sample2 = 1 + 1j\n",
    "ped_output = phase_error_detector(sample1, sample2)\n",
    "print(f\"Test case 2 output: {np.degrees(ped_output)} deg\\n\")"
   ]
  },
  {
   "cell_type": "markdown",
   "metadata": {},
   "source": [
    "#### Loop Filter\n",
    "\n",
    "The loop filter module provides stability for the overall PLL system by shaping the transient response. During instantiation of a PLL system, a loop bandwidth and damping factor are defined as parameters shaping this transient response. The loop bandwidth specifies the speed at which the PLL will converge towards matching the input reference signal, setting a wider loop bandwidth allows the PLL to respond more rapidly respond to input frequency changes but introduces more internal noise. The damping factor specifies how the oscillations decay in the transient response when a input frequency change is introduced. Together these parameters categorize the loop filter coefficients $K_1$ and $K_2$ seen in figure 2.\n",
    "\n",
    "<div style=\"text-align: center;\">\n",
    "    <img src=\"./images/PLL/pll_loop_filter_diagram.png\" alt=\"\" width=\"500\" />\n",
    "    <p style=\"text-align: center;\">Figure 2: Loop Filter Internal Architecture</p>\n",
    "</div>\n",
    "\n",
    "The derivations of $K_1$ and $K_2$ are shown below\n",
    "$$\n",
    "K_1 = \\frac{4 \\xi \\left( \\frac{B_n T_s}{\\zeta + \\frac{1}{4 \\zeta}} \\right)}{1 + 2 \\zeta \\left( \\frac{B_{nT} T_s}{\\zeta + \\frac{1}{4 \\zeta}} \\right) + \\left( \\frac{B_{nT} T_s}{\\zeta + \\frac{1}{4 \\zeta}} \\right)^2} \\quad \\quad \\quad K_2 = \\frac{4 \\left( \\frac{B_n T_s}{\\zeta + \\frac{1}{4 \\zeta}} \\right)^2}{1 + 2 \\zeta \\left( \\frac{B_{nT} T_s}{\\zeta + \\frac{1}{4 \\zeta}} \\right) + \\left( \\frac{B_{nT} T_s}{\\zeta + \\frac{1}{4 \\zeta}} \\right)^2}\n",
    "$$\n",
    "\n",
    "where:\n",
    "- $B_n$ represents the loop bandwidth (usually normalized for the sample rate $f_s$),\n",
    "- $\\zeta$ represents the damping factor,\n",
    "- $T_s$ is the sampling period of the system.\n",
    "\n",
    "The following excerpt shows the loop filter coeffiencient calculations later used in the full PLL subsystem. "
   ]
  },
  {
   "cell_type": "code",
   "execution_count": null,
   "metadata": {},
   "outputs": [],
   "source": [
    "def compute_loop_constants(fs, lb, df):\n",
    "    denominator = 1 + ((2 * df) * ((lb * (1 / fs)) / (df + (1 / (4 * df))))) + ((lb * (1 / fs)) / (df + (1 / (4 * df)))) ** 2\n",
    "    K1 = ((4 * df) * ((lb * (1 / fs)) / (df + (1 / (4 * df))))) / denominator\n",
    "    K2 = (((lb * (1 / fs)) / (df + (1 / (4 * df)))) ** 2) / denominator\n",
    "    return K1, K2\n",
    "\n",
    "sample_rate = 8\n",
    "loop_bandwidth = 0.02 * sample_rate\n",
    "damping_factor = 1 / np.sqrt(2)\n",
    "k1, k2 = compute_loop_constants(sample_rate, loop_bandwidth, damping_factor)\n",
    "\n",
    "print(\"\\nLoop Filter Configuration Parameters\")\n",
    "print(f\"Sample Rate: {sample_rate}\")\n",
    "print(f\"Loop Bandwidth: {loop_bandwidth}\")\n",
    "print(f\"Damping Factor: {np.round(damping_factor, 5)}\")\n",
    "print(f\"Loop Filter Coefficient K1: {np.round(k1, 5)}\")\n",
    "print(f\"Loop Filter Coefficient K2: {np.round(k2, 5)}\\n\")"
   ]
  },
  {
   "cell_type": "markdown",
   "metadata": {},
   "source": [
    "#### Direct Digital Synthesizer\n",
    "\n",
    "The direct digital synthesizer (DDS) module generates a complex sinusoidal output signal using the filtered phase error from the loop filter. This process is illustrated in figure 3, which employs a feedback architecture. In this setup, the previous output, the current output, and a estimated reference frequency are summed and then fed into a complex multiplier. The complex multiplier operates on two separate channels: the first applies a cosine function to the input, while the second applies a sine function which are both performed via the cordic algorithm. This approach allows the DDS to precisely generate the required output signal which is required for maintaining phase and frequency synchronization throughout transmission.\n",
    "\n",
    "<div style=\"text-align: center;\">\n",
    "    <img src=\"./images/PLL/pll_dds_diagram.png\" alt=\"\" width=\"600\" />\n",
    "    <p style=\"text-align: center;\">Figure 3: DDS Internal Architecture</p>\n",
    "</div>\n",
    "\n",
    "Figure 3 shows a gain, $G$, being applied to the DDS input. This gain is used to normalize the output of the loop filter, ensuring that the phase error signal is appropriately scaled before it is fed into the DDS. The normalization provided by $G$ helps to maintain consistent output amplitude from the DDS, preventing excessive signal levels that could lead to distortion or instability in the PLL system. The following excerpt shows the DDS implementation later used in the full PLL subsystem. "
   ]
  },
  {
   "cell_type": "code",
   "execution_count": null,
   "metadata": {},
   "outputs": [],
   "source": [
    "def DDS(fs, n, v, f0, k0):\n",
    "    phase = v * k0\n",
    "    output = np.exp(1j * (2 * np.pi * (f0 / fs) * n + phase))\n",
    "    return output\n",
    "\n",
    "fs = 8 # sample rate\n",
    "n = np.arange(0, 100) # sample indicies\n",
    "v = 1.0 # defined loop filter output\n",
    "k0 = 1.0 # normalization coefficient\n",
    "f0 = 10 # assumed frequency of input\n",
    "\n",
    "output = DDS(sample_rate, n, v, k0, f0)\n",
    "\n",
    "plt.figure(figsize=(6, 4))\n",
    "plt.plot(np.real(output))\n",
    "plt.title(\"DDS Output\")\n",
    "plt.show()"
   ]
  },
  {
   "cell_type": "markdown",
   "metadata": {},
   "source": [
    "#### PLL Simulation\n",
    "\n",
    "With all the submodules defined, the complete PLL subsystem can now be tested. The PLL is implemented as a class within the helper functions code and operates in stream mode, where each input sample of the complex reference signal produces a corresponding output sample. For testing, a reference signal is generated, and arrays are initialized to track the PLL's internal variables, including the detected phase error, loop filter output, and the input and output reference signal samples. This setup allows for detailed analysis of the PLL's performance throughout the simulation."
   ]
  },
  {
   "cell_type": "code",
   "execution_count": null,
   "metadata": {},
   "outputs": [],
   "source": [
    "sample_rate = 500\n",
    "n = np.arange(0,1000)\n",
    "\n",
    "input_freq = 10\n",
    "input_phase = np.pi / 4\n",
    "input_signal = np.exp(1j * ((2 * np.pi * (input_freq) / sample_rate) * n + (input_phase)))"
   ]
  },
  {
   "cell_type": "markdown",
   "metadata": {},
   "source": [
    "Next the PLL module can be instantiated using the system sample rate as well as a specified loop bandwidth and damping factor. A varietry of arrays are also defined to store records of the PLL's internal variables."
   ]
  },
  {
   "cell_type": "code",
   "execution_count": null,
   "metadata": {},
   "outputs": [],
   "source": [
    "loop_bandwidth = 0.02 * sample_rate\n",
    "damping_factor = 1 / np.sqrt(2)\n",
    "pll = sp.PLL(sample_rate, loop_bandwidth=loop_bandwidth, damping_factor=damping_factor)\n",
    "\n",
    "# print loop filter configuration\n",
    "print(\"\\nPLL Configuration Parameters\")\n",
    "print(f\"K1: {np.round(pll.k1, 5)}\")\n",
    "print(f\"K2: {np.round(pll.k2, 5)}\\n\")\n",
    "\n",
    "# pll internal records\n",
    "pll_input = []\n",
    "pll_output = []\n",
    "pll_detected_phase_record = []\n",
    "pll_error_record = []"
   ]
  },
  {
   "cell_type": "markdown",
   "metadata": {},
   "source": [
    "Finally the simulation can be run as well as the resulting recorded input, output, and measured phase errors plotted."
   ]
  },
  {
   "cell_type": "code",
   "execution_count": null,
   "metadata": {},
   "outputs": [],
   "source": [
    "for i in range(len(n)):\n",
    "    # insert the new sample into the PLL\n",
    "    output_signal = pll.insert_new_sample(input_signal[i], i)\n",
    "    \n",
    "    # record detected phase and error\n",
    "    detected_phase = pll.get_current_phase()\n",
    "    error = pll.phase_detector(output_signal, input_signal[i])\n",
    "\n",
    "    # update records\n",
    "    pll_input.append(input_signal[i])\n",
    "    pll_output.append(output_signal)\n",
    "    pll_detected_phase_record.append(detected_phase)\n",
    "    pll_error_record.append(error)\n",
    "\n",
    "# plotting the phase error and input/output signal results\n",
    "plt.figure(figsize=(12, 8))\n",
    "\n",
    "plt.subplot(2, 1, 1)\n",
    "plt.plot(pll_error_record, label='Phase Error', color='r')\n",
    "plt.title('Phase Error')\n",
    "plt.xlabel('Sample Index')\n",
    "plt.ylabel('Phase Error (radians)')\n",
    "plt.grid()\n",
    "\n",
    "plt.subplot(2, 1, 2)\n",
    "plt.plot(np.real(pll_input), label='Input Signal', color='b', alpha=0.7)\n",
    "plt.plot(np.real(pll_output), label='Output Signal', color='g', alpha=0.7)\n",
    "plt.title('Input and Output Signals')\n",
    "plt.xlabel('Sample Index')\n",
    "plt.ylabel('Amplitude')\n",
    "plt.legend()\n",
    "plt.grid()\n",
    "\n",
    "plt.tight_layout()\n",
    "plt.show()"
   ]
  },
  {
   "cell_type": "markdown",
   "metadata": {},
   "source": [
    "&nbsp;\n",
    "### QPSK Integration\n",
    "\n",
    "The PLL described above serves as the foundation for phase and frequency synchronization in a quadrature communication receiver. Figure 4 below demonstrates its integration into a QPSK system, where complex signal points are extracted both before and after the decision module, and phase corrections are applied after the downsampling stage.\n",
    "\n",
    "<div style=\"text-align: center;\">\n",
    "    <img src=\"./images/PLL/pll_full_system_diagram.png\" alt=\"\" width=\"1000\" />\n",
    "    <p style=\"text-align: center;\">Figure 4: QPSK Receiver PLL Placement</p>\n",
    "</div>"
   ]
  },
  {
   "cell_type": "markdown",
   "metadata": {},
   "source": [
    "&nbsp;\n",
    "### Transmitter\n",
    "\n",
    "The QPSK transmitter can be simulated similarly to that in the QPSK example (see *QPSK.ipynb*), with the added step of concatenating the previously described unique word with the generated symbol sequence. This process is summarized below."
   ]
  },
  {
   "cell_type": "markdown",
   "metadata": {},
   "source": [
    "#### Unique Word Resolution\n",
    "\n",
    "The timing error detector operates on complex points sampled before and after the decision process, leveraging the assumption that the system is already close to the correct symbol. By comparing the received point with the estimated symbol, the system can determine the phase offset, allowing the PLL to adjust its internal phase to match the received signal's phase. However, this approach introduces ambiguity, as the estimated point might be a rotated version of the actual message.\n",
    "\n",
    "To resolve this ambiguity, a unique word— a predefined sequence of symbols that is distinct for each possible symbol in the modulation scheme's constellation—is used. This unique word allows the PLL to lock onto the nearest estimated point and then correctly align the constellation based on the received sequence. An example of an 8-symbol, 16-bit unique word for QPSK is shown below."
   ]
  },
  {
   "cell_type": "code",
   "execution_count": null,
   "metadata": {},
   "outputs": [],
   "source": [
    "unique_word = [0, 1, 2, 3, 0, 1, 2, 3]\n",
    "phase_ambiguities = {\n",
    "    \"01230123\": 0,\n",
    "    \"20312031\": np.pi/2,\n",
    "    \"32103210\": np.pi,\n",
    "    \"13021302\": 3*np.pi/2\n",
    "}"
   ]
  },
  {
   "cell_type": "markdown",
   "metadata": {},
   "source": [
    "#### Bit to Symbol Mapping"
   ]
  },
  {
   "cell_type": "code",
   "execution_count": null,
   "metadata": {},
   "outputs": [],
   "source": [
    "qpsk_constellation = [[complex( np.sqrt(1) +  np.sqrt(1)*1j), 3], \n",
    "                      [complex( np.sqrt(1) + -np.sqrt(1)*1j), 2], \n",
    "                      [complex(-np.sqrt(1) + -np.sqrt(1)*1j), 0], \n",
    "                      [complex(-np.sqrt(1) +  np.sqrt(1)*1j), 1]]\n",
    "fs = 8 # sample rate\n",
    "fc = .25 * fs # carrier frequency\n",
    "noise = 2*(10**-4) # system noise\n",
    "input_message_ascii = \"this is a qpsk transceiver test!\"\n",
    "\n",
    "# mapping the ascii characters to binary\n",
    "input_message_bins = ''.join(sp.string_to_ascii_binary(input_message_ascii))\n",
    "\n",
    "# grouping the binary into blocks of two bits\n",
    "input_message_blocks = [input_message_bins[i:i+2] for i in range(0, len(input_message_bins), 2)]\n",
    "\n",
    "# mapping each block to a symbol in the constellation\n",
    "input_message_symbols = [int(bin2, 2) for bin2 in input_message_blocks]"
   ]
  },
  {
   "cell_type": "markdown",
   "metadata": {},
   "source": [
    "#### Unique Word and Header"
   ]
  },
  {
   "cell_type": "code",
   "execution_count": null,
   "metadata": {},
   "outputs": [],
   "source": [
    "# adding unqiue word to symbols\n",
    "input_message_symbols = unique_word + input_message_symbols\n",
    "\n",
    "bits_to_amplitude = {bit: amplitude for amplitude, bit in qpsk_constellation}\n",
    "\n",
    "# inphase channel symbol mapping\n",
    "xk = np.real([bits_to_amplitude[symbol] for symbol in input_message_symbols])\n",
    "\n",
    "# quadrature channel symbol mapping\n",
    "yk = np.imag([bits_to_amplitude[symbol] for symbol in input_message_symbols])\n",
    "\n",
    "# adding header to each channel\n",
    "header = np.ones(25)\n",
    "xk = np.concatenate([header, xk])\n",
    "yk = np.concatenate([header, yk])"
   ]
  },
  {
   "cell_type": "markdown",
   "metadata": {},
   "source": [
    "#### Upsampling"
   ]
  },
  {
   "cell_type": "code",
   "execution_count": null,
   "metadata": {},
   "outputs": [],
   "source": [
    "xk_upsampled = sp.upsample(xk, fs, interpolate_flag=False)\n",
    "yk_upsampled = sp.upsample(yk, fs, interpolate_flag=False)"
   ]
  },
  {
   "cell_type": "markdown",
   "metadata": {},
   "source": [
    "#### Pulse Shaping"
   ]
  },
  {
   "cell_type": "code",
   "execution_count": null,
   "metadata": {},
   "outputs": [],
   "source": [
    "length = 64\n",
    "alpha = 0.10\n",
    "pulse_shape = sp.srrc(alpha, fs, length)\n",
    "\n",
    "xk_pulse_shaped = np.real(sp.convolve(xk_upsampled, pulse_shape, mode=\"same\")[1:])\n",
    "yk_pulse_shaped = np.real(sp.convolve(yk_upsampled, pulse_shape, mode=\"same\")[1:])"
   ]
  },
  {
   "cell_type": "markdown",
   "metadata": {},
   "source": [
    "#### Digital Modulation"
   ]
  },
  {
   "cell_type": "code",
   "execution_count": null,
   "metadata": {},
   "outputs": [],
   "source": [
    "s_rf = (\n",
    "    np.sqrt(2) * np.real(sp.modulate_by_exponential(xk_pulse_shaped, fc, fs, noise=noise)) +\n",
    "    np.sqrt(2) * np.imag(sp.modulate_by_exponential(yk_pulse_shaped, fc, fs, noise=noise))\n",
    ")"
   ]
  },
  {
   "cell_type": "markdown",
   "metadata": {},
   "source": [
    "&nbsp;\n",
    "### Receiver\n",
    "\n",
    "A small phase and frequency offset will be added to the demodulation module which removes the synchronization between the transmitter and receiver modules. The matched filtering and downsampling are kept the same as in the *QPSK.ipynb* notebook and are further discussed there."
   ]
  },
  {
   "cell_type": "markdown",
   "metadata": {},
   "source": [
    "#### Digital Demodulation"
   ]
  },
  {
   "cell_type": "code",
   "execution_count": null,
   "metadata": {},
   "outputs": [],
   "source": [
    "fc_offset = 0.0005\n",
    "phase_offset = 3 * np.pi\n",
    "\n",
    "r_nT = np.sqrt(2) * sp.modulate_by_exponential(s_rf, fc + fc_offset, fs) * np.exp(1j * phase_offset)\n",
    "xr_nT = np.real(r_nT)\n",
    "yr_nT = np.imag(r_nT)"
   ]
  },
  {
   "cell_type": "markdown",
   "metadata": {},
   "source": [
    "#### Matched Filtering"
   ]
  },
  {
   "cell_type": "code",
   "execution_count": null,
   "metadata": {},
   "outputs": [],
   "source": [
    "xr_nT_match_filtered = np.real(sp.convolve(xr_nT, pulse_shape, mode=\"same\")[1:])\n",
    "yr_nT_match_filtered = np.real(sp.convolve(yr_nT, pulse_shape, mode=\"same\")[1:])"
   ]
  },
  {
   "cell_type": "markdown",
   "metadata": {},
   "source": [
    "#### Downsampling"
   ]
  },
  {
   "cell_type": "code",
   "execution_count": null,
   "metadata": {},
   "outputs": [],
   "source": [
    "xk = sp.downsample(xr_nT_match_filtered, fs)\n",
    "yk = sp.downsample(yr_nT_match_filtered, fs)\n",
    "rk = xk + 1j * yk"
   ]
  },
  {
   "cell_type": "markdown",
   "metadata": {},
   "source": [
    "By plotting the received constellation points the phase and frequency offsets are visualized."
   ]
  },
  {
   "cell_type": "code",
   "execution_count": null,
   "metadata": {},
   "outputs": [],
   "source": [
    "sp.plot_complex_points(rk, constellation=qpsk_constellation)"
   ]
  },
  {
   "cell_type": "markdown",
   "metadata": {},
   "source": [
    "#### Unique Word Resolution\n",
    "\n",
    "To identify the received unique word and properly adjust the received constellations by the corresponding phase ambiguity, a shift register is used to search for the unique word while the PLL operates. Each incoming sample is inserted into the register, which is then checked against the phase ambiguity lookup table for a match. This process continues until a match is found, at which point the DDS output is adjusted to account for the identified ambiguity."
   ]
  },
  {
   "cell_type": "code",
   "execution_count": null,
   "metadata": {},
   "outputs": [],
   "source": [
    "uw_register = ['0', '0', '0', '0', '0', '0', '0', '0']\n",
    "uw_flag = False\n",
    "\n",
    "uw_offset = 0 # initial unique word offset"
   ]
  },
  {
   "cell_type": "markdown",
   "metadata": {},
   "source": [
    "&nbsp;\n",
    "#### Carrier Phase Synchronization\n",
    "\n",
    "A PLL object is first instantiated using the system sample rate, specified loop bandwidth, and damping factor as well as a number of internal tracking record arrays."
   ]
  },
  {
   "cell_type": "code",
   "execution_count": null,
   "metadata": {},
   "outputs": [],
   "source": [
    "loop_bandwidth = (fc/fs)*0.06\n",
    "damping_factor = 1/np.sqrt(2)\n",
    "pll = sp.PLL(fs, loop_bandwidth=loop_bandwidth, damping_factor=damping_factor)\n",
    "\n",
    "# internal tracking records\n",
    "pll_detected_phase_record = []\n",
    "pll_error_record = []\n",
    "pll_loop_filter_record = []\n",
    "\n",
    "# output tracking records\n",
    "rotated_constellations = []\n",
    "detected_constellations = []"
   ]
  },
  {
   "cell_type": "markdown",
   "metadata": {},
   "source": [
    "Before running the subsystem, the maximum system gain must be measured and normalized. This is performed by running the PLL in open loop mode by setting the *open_loop* flag to *True* and recording the maximum value."
   ]
  },
  {
   "cell_type": "code",
   "execution_count": null,
   "metadata": {},
   "outputs": [],
   "source": [
    "pll = sp.PLL(fs, loop_bandwidth=loop_bandwidth, damping_factor=damping_factor, open_loop=True)\n",
    "\n",
    "max_lf_output = 0\n",
    "for i in range(len(rk)):\n",
    "    lf_output = pll.insert_new_sample(rk[i], i)\n",
    "    if lf_output > max_lf_output:\n",
    "        max_lf_output = lf_output\n",
    "\n",
    "pll_gain = max_lf_output\n",
    "print(f\"\\nPLL Measured System Gain: {pll_gain}\\n\")"
   ]
  },
  {
   "cell_type": "markdown",
   "metadata": {},
   "source": [
    "The PLL module is the reinstantiated using this gain as well as a number of arrays defined to track internal variables."
   ]
  },
  {
   "cell_type": "code",
   "execution_count": null,
   "metadata": {},
   "outputs": [],
   "source": [
    "pll = sp.PLL(fs, loop_bandwidth=loop_bandwidth, damping_factor=damping_factor, gain=pll_gain)\n",
    "\n",
    "pll_error_record = []\n",
    "rotated_constellations = []\n",
    "detected_constellations = []\n",
    "dds_output = np.exp(1j * 0)"
   ]
  },
  {
   "cell_type": "markdown",
   "metadata": {},
   "source": [
    "The PLL is now run using the received signal constellation points as input and producing synchronized constellation points as output."
   ]
  },
  {
   "cell_type": "code",
   "execution_count": null,
   "metadata": {},
   "outputs": [],
   "source": [
    "for i in range(len(rk)):\n",
    "    # perform ccw rotation\n",
    "    rk_ccwr = rk[i] * dds_output * np.exp(1j * uw_offset)\n",
    "    rotated_constellations.append(rk_ccwr)\n",
    "\n",
    "    # find nearest neighbor constellation\n",
    "    detected_symbol = sp.nearest_neighbor([rk_ccwr], qpsk_constellation)[0]\n",
    "    detected_constellation = bits_to_amplitude[detected_symbol]\n",
    "    detected_constellations.append(detected_constellation)\n",
    "\n",
    "    # update unique word register\n",
    "    uw_register.pop(0)\n",
    "    uw_register.append(str(detected_symbol))\n",
    "\n",
    "    if uw_flag == False:\n",
    "        received_unique_word = sp.check_unique_word(uw_register, phase_ambiguities=phase_ambiguities)\n",
    "        if received_unique_word != None:\n",
    "            uw_offset = received_unique_word\n",
    "            uw_flag = True\n",
    "\n",
    "    # calculate phase error\n",
    "    phase_error = pll.phase_detector(rk_ccwr, detected_constellation)\n",
    "    pll_error_record.append(phase_error)\n",
    "    \n",
    "    # feed into loop filter\n",
    "    loop_filter_output = pll.loop_filter(phase_error)\n",
    "\n",
    "    # feed into dds\n",
    "    pll.dds(i, loop_filter_output)\n",
    "\n",
    "    # generate next dds output\n",
    "    dds_output = np.exp(1j * pll.get_current_phase())"
   ]
  },
  {
   "cell_type": "markdown",
   "metadata": {},
   "source": [
    "The rotated constellation points are plotted to illustrate the subsystems performance as well as the received unique word ambiguity printed."
   ]
  },
  {
   "cell_type": "code",
   "execution_count": null,
   "metadata": {},
   "outputs": [],
   "source": [
    "print(f\"Phase Ambiguity Rotation: {np.degrees(uw_offset)} deg\\n\")\n",
    "\n",
    "# phase error and constellation plotting\n",
    "plt.figure()\n",
    "plt.plot(pll_error_record, label='Phase Error', color='r')\n",
    "plt.title('Phase Error')\n",
    "plt.xlabel('Sample Index')\n",
    "plt.ylabel('Phase Error (radians)')\n",
    "plt.grid()\n",
    "plt.show()\n",
    "\n",
    "plt.title(\"PLL Output Constellations\")\n",
    "plt.plot(np.real(rotated_constellations), np.imag(rotated_constellations), 'ro', label=\"Rotated Constellations\")\n",
    "plt.plot(np.real(detected_constellations), np.imag(detected_constellations), 'bo',  label=\"Esteimated Constellations\")\n",
    "plt.legend()\n",
    "plt.grid(True)\n",
    "plt.show()"
   ]
  },
  {
   "cell_type": "markdown",
   "metadata": {},
   "source": [
    "#### Symbol Decision\n",
    "\n",
    "The phase synchronized signal can now be mapped back from constellation points to symbols via the nearest neighbor algorithm, this process is discussed more thoroughly in the *QPSK.ipynb* notebook."
   ]
  },
  {
   "cell_type": "code",
   "execution_count": null,
   "metadata": {},
   "outputs": [],
   "source": [
    "detected_symbols = sp.nearest_neighbor(detected_constellations[len(header) + len(unique_word):], qpsk_constellation)\n",
    "symbol_errors = sp.error_count(input_message_symbols[len(unique_word):], detected_symbols)\n",
    "print(f\"Transmission Symbol Errors: {symbol_errors}\")\n",
    "print(f\"Bit Error Percentage: {round((symbol_errors * 2) / len(detected_symbols), 2)} %\")"
   ]
  },
  {
   "cell_type": "markdown",
   "metadata": {},
   "source": [
    "Finally the estimated receive symbols are converted back to binary representations and then grouped into ascii characters."
   ]
  },
  {
   "cell_type": "code",
   "execution_count": null,
   "metadata": {},
   "outputs": [],
   "source": [
    "# converting symbols to binary then binary to ascii\n",
    "detected_bits = []\n",
    "for symbol in detected_symbols:\n",
    "    detected_bits += ([*bin(symbol)[2:].zfill(2)])\n",
    "\n",
    "message = sp.bin_to_char(detected_bits)\n",
    "print(message)\n"
   ]
  }
 ],
 "metadata": {
  "kernelspec": {
   "display_name": "Python 3 (ipykernel)",
   "language": "python",
   "name": "python3"
  },
  "language_info": {
   "codemirror_mode": {
    "name": "ipython",
    "version": 3
   },
   "file_extension": ".py",
   "mimetype": "text/x-python",
   "name": "python",
   "nbconvert_exporter": "python",
   "pygments_lexer": "ipython3",
   "version": "3.12.4"
  }
 },
 "nbformat": 4,
 "nbformat_minor": 4
}
