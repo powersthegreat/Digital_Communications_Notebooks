{
 "cells": [
  {
   "cell_type": "markdown",
   "id": "a174d3fb-0f11-4b22-a7b7-51927be98d87",
   "metadata": {},
   "source": [
    "### QPSK Full Synchronization System\n",
    "\n",
    "The *QPSK.ipynb* notebook demonstrates a full quadrature phase shift keying transmitter and receiver architecture yet assumes that the two systems are completely synchronized in both sample timing and carrier phase. This system is architecture is shown below in figure 1.\n",
    "\n",
    "<div style=\"text-align: center;\">\n",
    "    <img src=\"./images/QPSK_Synchronized/full_system_sync_diagram.png\" alt=\"\" width=\"900\" />\n",
    "    <p style=\"text-align: center;\">Figure 1: QPSK Receiver Architecture</p>\n",
    "</div>\n",
    "\n",
    "In practical systems, the exact settings of the transmitter's oscillators are unknown; only a general estimation is available. The Phase-Locked Loop (PLL) subsystem, as detailed in the PLL.ipynb notebook, demonstrates the process of correcting carrier phase and frequency offsets to achieve synchronized demodulation. The Symbol Clock Synchronizer (SCS) subsystem, described in the SCS.ipynb notebook, outlines the process of correcting sample timing offsets to ensure that the sample selection process is synchronized with the sample rate used by the transmitter. When combined, these two subsystems allow a receiver to lock onto a receive signal and obtain the transmitted message admist the syncrhonization offsets. The receiver architecture including both the PLL and SCS subsystems is shown below in figure 2.\n",
    "\n",
    "<div style=\"text-align: center;\">\n",
    "    <img src=\"./images/QPSK_Synchronized/full_system_diagram.png\" alt=\"\" width=\"1000\" />\n",
    "    <p style=\"text-align: center;\">Figure 2: Synchronized QPSK Receiver Architecture</p>\n",
    "</div>"
   ]
  },
  {
   "cell_type": "markdown",
   "id": "5b4f1ba5-16b6-457a-867f-fa85cd6e3122",
   "metadata": {},
   "source": [
    "&nbsp;\n",
    "### Transmitter\n",
    "\n",
    "The QPSK transmitter can be simulated similarly to that in the QPSK example (see *QPSK.ipynb*), with the addition of predefined synchronization offsets. This process is summarized below."
   ]
  },
  {
   "cell_type": "markdown",
   "id": "09670785-92c3-4970-87e0-ca7b09d9aa4c",
   "metadata": {},
   "source": [
    "#### System Configuration\n",
    "\n",
    "First, the developed signal processing library must be imported as well as plotting and linear algebras libraries to aid in later visualization of the system's internal variables."
   ]
  },
  {
   "cell_type": "code",
   "execution_count": null,
   "id": "bbd790b7-6002-4e1a-b47d-5bfd0ed7c909",
   "metadata": {},
   "outputs": [],
   "source": [
    "%pip install -q numpy matplotlib scipy --disable-pip-version-check\n",
    "import numpy as np\n",
    "import matplotlib.pyplot as plt\n",
    "from helper_functions import sp_library as sp"
   ]
  },
  {
   "cell_type": "markdown",
   "id": "6bfa5941-693b-4969-b620-cb2e435dca5f",
   "metadata": {},
   "source": [
    "Next, before the transmitter can be described, a set of system parameters must be configured to define the design. QPSK has already been selected as the modulation type, and the remaining system parameters are set below, including the corresponding constellation map, system noise $ N_o $, sample rate $ f_s $, carrier frequency $ f_c $, and the input message."
   ]
  },
  {
   "cell_type": "code",
   "execution_count": null,
   "id": "71099723-4849-4885-8e4f-25d5c0099ede",
   "metadata": {},
   "outputs": [],
   "source": [
    "qpsk_constellation = [[complex( np.sqrt(1) +  np.sqrt(1)*1j), 3], \n",
    "                      [complex( np.sqrt(1) + -np.sqrt(1)*1j), 2], \n",
    "                      [complex(-np.sqrt(1) + -np.sqrt(1)*1j), 0], \n",
    "                      [complex(-np.sqrt(1) +  np.sqrt(1)*1j), 1]]\n",
    "noise = 2 * (10 ** -4)\n",
    "fs = 8 # sample rate\n",
    "fc = .25 * fs # carrier frequency"
   ]
  },
  {
   "cell_type": "markdown",
   "id": "67e4d6fc-2a25-4f19-afc4-56ddb0d7c5e3",
   "metadata": {},
   "source": [
    "#### Bit to Symbol Mapping"
   ]
  },
  {
   "cell_type": "code",
   "execution_count": null,
   "id": "6e8a76a4-6557-4f4e-b337-77236fae2e9d",
   "metadata": {},
   "outputs": [],
   "source": [
    "input_message_ascii = \"this is a qpsk transceiver test!\"\n",
    "\n",
    "# mapping the ascii characters to binary\n",
    "input_message_bins = ''.join(sp.string_to_ascii_binary(input_message_ascii))\n",
    "\n",
    "# grouping the binary into blocks of two bits\n",
    "input_message_blocks = [input_message_bins[i:i+2] for i in range(0, len(input_message_bins), 2)]\n",
    "\n",
    "# mapping each block to a symbol in the constellation\n",
    "input_message_symbols = [int(bin2, 2) for bin2 in input_message_blocks]"
   ]
  },
  {
   "cell_type": "markdown",
   "id": "09395109-f0d3-4d84-bc96-88cb6d465cdb",
   "metadata": {},
   "source": [
    "#### Unique Word and Header"
   ]
  },
  {
   "cell_type": "code",
   "execution_count": null,
   "id": "4ed85fc6-1789-4f18-8b04-62e4cc33dcf6",
   "metadata": {},
   "outputs": [],
   "source": [
    "# adding unqiue word to symbols\n",
    "unique_word = [0, 1, 2, 3, 0, 1, 2, 3]\n",
    "phase_ambiguities = {\n",
    "    \"01230123\": 0,\n",
    "    \"20312031\": np.pi/2,\n",
    "    \"32103210\": np.pi,\n",
    "    \"13021302\": 3*np.pi/2\n",
    "}\n",
    "\n",
    "input_message_symbols = unique_word + input_message_symbols\n",
    "\n",
    "bits_to_amplitude = {bit: amplitude for amplitude, bit in qpsk_constellation}\n",
    "\n",
    "# inphase channel symbol mapping\n",
    "xk = np.real([bits_to_amplitude[symbol] for symbol in input_message_symbols])\n",
    "\n",
    "# quadrature channel symbol mapping\n",
    "yk = np.imag([bits_to_amplitude[symbol] for symbol in input_message_symbols])\n",
    "\n",
    "# adding header to each channel\n",
    "header = [1,0] * 50\n",
    "xk = np.concatenate([header, xk])\n",
    "yk = np.concatenate([header, yk])"
   ]
  },
  {
   "cell_type": "markdown",
   "id": "372fad2e-321a-49e5-9b67-d74a1e57379e",
   "metadata": {},
   "source": [
    "#### Upsampling"
   ]
  },
  {
   "cell_type": "code",
   "execution_count": null,
   "id": "51f85fdc-8c18-48aa-995c-88870cbc8bf5",
   "metadata": {},
   "outputs": [],
   "source": [
    "xk_upsampled = sp.upsample(xk, fs)\n",
    "yk_upsampled = sp.upsample(yk, fs)"
   ]
  },
  {
   "cell_type": "markdown",
   "id": "5a8650eb-656e-45d0-8b22-ea14cb4ed73e",
   "metadata": {},
   "source": [
    "#### Introducing a Timing Offset\n",
    "\n",
    "A timing offset is introduced to the upsampled symbols in the transmitter using two methods. The first method involves offsetting the signal's sample timings by interpolating and selecting an intermediate periodic sample to represent the entire signal. The second method creates an offset in the symbol spacing by removing a small segment of the input samples, which the SCS will later correct. Both methods can be adjusted in the following example."
   ]
  },
  {
   "cell_type": "code",
   "execution_count": null,
   "id": "0d2b71a6-8206-407d-9f18-b6fa81a01ed2",
   "metadata": {},
   "outputs": [],
   "source": [
    "timing_offset = 0.0\n",
    "sample_shift = 0\n",
    "\n",
    "xk_upsampled = sp.clock_offset(xk_upsampled, fs, timing_offset)[sample_shift:]\n",
    "yk_upsampled = sp.clock_offset(yk_upsampled, fs, timing_offset)[sample_shift:]"
   ]
  },
  {
   "cell_type": "markdown",
   "id": "4eabeee8-267b-4208-9bfc-aced6b8270f6",
   "metadata": {},
   "source": [
    "#### Pulse Shaping"
   ]
  },
  {
   "cell_type": "code",
   "execution_count": null,
   "id": "ebfcf484-53ec-4e81-9b51-3b8777bcfe3e",
   "metadata": {},
   "outputs": [],
   "source": [
    "length = 64\n",
    "alpha = 0.10\n",
    "pulse_shape = sp.srrc(alpha, fs, length)\n",
    "\n",
    "xk_pulse_shaped = np.real(sp.convolve(xk_upsampled, pulse_shape, mode=\"same\")[1:])\n",
    "yk_pulse_shaped = np.real(sp.convolve(yk_upsampled, pulse_shape, mode=\"same\")[1:])\n",
    "\n",
    "print(f\"\\nFilter Length: {length} samples\")\n",
    "print(f\"Message Length: {alpha} percent\")\n",
    "print(f\"Sample Rate: {fs} samples per symbol\\n\")"
   ]
  },
  {
   "cell_type": "markdown",
   "id": "556008df-bdbd-4cbd-80ad-1a1c20ef3de1",
   "metadata": {},
   "source": [
    "#### Digital Modulation"
   ]
  },
  {
   "cell_type": "code",
   "execution_count": null,
   "id": "475dc13c-5eb3-4eb3-837a-653b3a55ab08",
   "metadata": {},
   "outputs": [],
   "source": [
    "s_rf = (\n",
    "    np.sqrt(2) * np.real(sp.modulate_by_exponential(xk_pulse_shaped, fc, fs, noise=noise)) +\n",
    "    np.sqrt(2) * np.imag(sp.modulate_by_exponential(yk_pulse_shaped, fc, fs, noise=noise))\n",
    ")"
   ]
  },
  {
   "cell_type": "markdown",
   "id": "0764ae13-2673-404e-ae93-9daa30ee4469",
   "metadata": {},
   "source": [
    "&nbsp;\n",
    "### Receiver\n",
    "\n",
    "A small phase and frequency offset will be added to the demodulation module which removes the synchronization between the transmitter and receiver modules. The matched filtering and downsampling are kept the same as in the *QPSK.ipynb* notebook and are further discussed there."
   ]
  },
  {
   "cell_type": "markdown",
   "id": "7e1e9b89-224b-4d6a-a289-2fdb879f59bb",
   "metadata": {},
   "source": [
    "#### Digital Demodulation"
   ]
  },
  {
   "cell_type": "code",
   "execution_count": null,
   "id": "bc9eae28-bc0d-43a9-8a59-89c8c94325ac",
   "metadata": {},
   "outputs": [],
   "source": [
    "fc_offset = 0.0005\n",
    "phase_offset = 3 * np.pi\n",
    "\n",
    "r_nT = np.sqrt(2) * sp.modulate_by_exponential(s_rf, fc + fc_offset, fs) * np.exp(1j * phase_offset)\n",
    "xr_nT = np.real(r_nT)\n",
    "yr_nT = np.imag(r_nT)"
   ]
  },
  {
   "cell_type": "markdown",
   "id": "1942c998-906d-4038-a0a2-6a9eb3492915",
   "metadata": {},
   "source": [
    "#### Match Filtering"
   ]
  },
  {
   "cell_type": "code",
   "execution_count": null,
   "id": "9af6b4a7-9b75-4642-8656-b79e31a7ee09",
   "metadata": {},
   "outputs": [],
   "source": [
    "xr_nT_match_filtered = np.real(sp.convolve(xr_nT, pulse_shape, mode=\"same\")[1:])\n",
    "yr_nT_match_filtered = np.real(sp.convolve(yr_nT, pulse_shape, mode=\"same\")[1:])"
   ]
  },
  {
   "cell_type": "markdown",
   "id": "b67d8a38-bd7e-41da-ae8f-4b92d6e41820",
   "metadata": {},
   "source": [
    "#### Down Sampling\n",
    "\n",
    "The matched filtered signal represented by $N$ samples per symbol is now downsampled by a factor of $\\frac{N}{2}$ producing a 2 samples per symbol representation."
   ]
  },
  {
   "cell_type": "code",
   "execution_count": null,
   "id": "56014cc9-baeb-4387-a18a-b2dbd07a3eed",
   "metadata": {},
   "outputs": [],
   "source": [
    "xr_nT_downsampled = sp.downsample(xr_nT_match_filtered, int(fs/2))\n",
    "yr_nT_downsampled = sp.downsample(yr_nT_match_filtered, int(fs/2))\n",
    "r_nT = (xr_nT_downsampled + 1j* yr_nT_downsampled)"
   ]
  },
  {
   "cell_type": "markdown",
   "id": "845ff80f-86f6-4706-80ca-eaf4b3f9fb31",
   "metadata": {},
   "source": [
    "An excerpt from the downsampled signal as well as the complex constellations are plotted to illustrate the current state of the receive samples."
   ]
  },
  {
   "cell_type": "code",
   "execution_count": null,
   "id": "50b08829-edb7-4a88-8d5b-007e4ed91399",
   "metadata": {},
   "outputs": [],
   "source": [
    "plt.figure()\n",
    "plt.stem(yr_nT_downsampled[len(header)*2:(len(header)+5)*2])\n",
    "plt.title(\"Downsampled by N/2 Signal\")\n",
    "plt.xlabel(\"Sample Time [n]\")\n",
    "plt.ylabel(\"Amplutide [V]\")\n",
    "plt.show()\n",
    "\n",
    "# plot the downsampled constellation\n",
    "sp.plot_complex_points(r_nT, constellation=qpsk_constellation)"
   ]
  },
  {
   "cell_type": "markdown",
   "id": "88f1a711-cd0a-4555-87b8-8ea342f44e3b",
   "metadata": {},
   "source": [
    "#### Unique Word Resolution\n",
    "\n",
    "To identify the received unique word and properly adjust the received constellations by the corresponding phase ambiguity, a shift register is used to search for the unique word while the PLL operates. Each incoming sample is inserted into the register, which is then checked against the phase ambiguity lookup table for a match. This process continues until a match is found, at which point the DDS output is adjusted to account for the identified ambiguity."
   ]
  },
  {
   "cell_type": "code",
   "execution_count": null,
   "id": "44024b6b-bf20-4548-8ffe-ee28467d9aea",
   "metadata": {},
   "outputs": [],
   "source": [
    "uw_register = ['0', '0', '0', '0', '0', '0', '0', '0']\n",
    "uw_flag = False\n",
    "uw_offset = 0 # initial unique word offset"
   ]
  },
  {
   "cell_type": "markdown",
   "id": "9fb47d92-58d0-4063-96ed-7eb4513ed4cf",
   "metadata": {},
   "source": [
    "#### Measuing SCS and PLL Gain\n",
    "\n",
    "For both the PLL and SCS subsystems, a loop bandwidth and damping factor are defined. The systems are then run on the raw input samples to determine the maximum outputs of their respective loop filters. These maximum values are used to normalize the outputs, represented as the gain factor $G$ in the module diagrams."
   ]
  },
  {
   "cell_type": "code",
   "execution_count": null,
   "id": "4c4a2c49-05be-434b-a58e-e57dd4d54001",
   "metadata": {},
   "outputs": [],
   "source": [
    "pll_loop_bandwidth = (fc/fs) * 0.06\n",
    "pll_damping_factor = 1/np.sqrt(2)\n",
    "\n",
    "scs_loop_bandwidth = (fc/fs) * 0.03\n",
    "scs_damping_factor = 1/np.sqrt(2)\n",
    "\n",
    "pll = sp.PLL(sample_rate=2, loop_bandwidth=pll_loop_bandwidth, damping_factor=pll_damping_factor, open_loop=True)\n",
    "scs = sp.SCS(samples_per_symbol=2, loop_bandwidth=scs_loop_bandwidth, damping_factor=scs_damping_factor, open_loop=True)"
   ]
  },
  {
   "cell_type": "code",
   "execution_count": null,
   "id": "57892d6a-f0c2-495e-bb8d-98953adb1ba2",
   "metadata": {},
   "outputs": [],
   "source": [
    "pll_max_lf_output = 0\n",
    "scs_max_lf_output = 0\n",
    "for i in range(len(r_nT)):\n",
    "    pll_lf_output = pll.insert_new_sample(r_nT[i], i)\n",
    "    scs_lf_output = scs.insert_new_sample(r_nT[i])\n",
    "\n",
    "    if pll_lf_output > pll_max_lf_output:\n",
    "        pll_max_lf_output = pll_lf_output\n",
    "\n",
    "    if scs_lf_output > scs_max_lf_output:\n",
    "        scs_max_lf_output = scs_lf_output\n",
    "\n",
    "pll_gain = pll_max_lf_output\n",
    "scs_gain = 1/scs_max_lf_output\n",
    "\n",
    "print(f\"\\nPLL Measured System Gain: {pll_gain}\\n\")\n",
    "print(f\"\\nSCS Measured System Gain: {scs_gain}\\n\")"
   ]
  },
  {
   "cell_type": "markdown",
   "id": "0148afe7-ca2a-48ec-93eb-f021ca5d71b1",
   "metadata": {},
   "source": [
    "The PLL and SCS modules are then reinstantiated with the measured gain values input as parameters for each and run using the input samples. A number of arrays are also defined to track internal records throughout the simulation."
   ]
  },
  {
   "cell_type": "code",
   "execution_count": null,
   "id": "140ca969-b5dd-40f0-aed2-9429c890b9e5",
   "metadata": {},
   "outputs": [],
   "source": [
    "pll = sp.PLL(sample_rate=2, loop_bandwidth=pll_loop_bandwidth, damping_factor=pll_damping_factor, gain=pll_gain)\n",
    "scs = sp.SCS(samples_per_symbol=2, loop_bandwidth=scs_loop_bandwidth, damping_factor=scs_damping_factor, gain=scs_gain, invert=True)\n",
    "\n",
    "detected_constellations = []\n",
    "rotated_corrected_constellations = []\n",
    "pll_error_record = []\n",
    "\n",
    "dds_output = np.exp(1j * 0) # initial pll rotation"
   ]
  },
  {
   "cell_type": "code",
   "execution_count": null,
   "id": "b91aa376-d58d-4f73-8c83-2e799a7e157b",
   "metadata": {},
   "outputs": [],
   "source": [
    "for i in range(len(r_nT)):\n",
    "    # perform ccw rotation\n",
    "    r_nT_ccwr = r_nT[i] * dds_output * np.exp(1j * uw_offset)\n",
    "    \n",
    "    # correct clock offset\n",
    "    corrected_constellation = scs.insert_new_sample(r_nT_ccwr)\n",
    "    if corrected_constellation is not None:\n",
    "        rotated_corrected_constellations.append(corrected_constellation)\n",
    "\n",
    "        # phase error calculation\n",
    "        detected_symbol = sp.nearest_neighbor([corrected_constellation], qpsk_constellation)[0]\n",
    "        detected_constellation = bits_to_amplitude[detected_symbol]\n",
    "        detected_constellations.append(detected_constellation)\n",
    "        \n",
    "        # update unquie word register\n",
    "        uw_register.pop(0)\n",
    "        uw_register.append(str(detected_symbol))\n",
    "\n",
    "        if uw_flag == False:\n",
    "            received_unique_word = sp.check_unique_word(uw_register, phase_ambiguities=phase_ambiguities)\n",
    "            if received_unique_word is not None:\n",
    "                uw_offset = received_unique_word\n",
    "                uw_flag = True\n",
    "        \n",
    "        # calculating phase error\n",
    "        phase_error = pll.phase_detector(corrected_constellation, detected_constellation)\n",
    "        pll_error_record.append(phase_error)\n",
    "\n",
    "        # feed into loop filter\n",
    "        loop_filter_output = pll.loop_filter(phase_error)\n",
    "\n",
    "        # feed into dds\n",
    "        pll.dds(i, loop_filter_output)\n",
    "\n",
    "        # generate next dds output\n",
    "        dds_output = np.exp(1j * pll.get_current_phase())"
   ]
  },
  {
   "cell_type": "markdown",
   "id": "82e77dca-9f08-438f-9444-699e0588edaa",
   "metadata": {},
   "source": [
    "The simulation results and internal records are plotted below to illustrated the subsystems performance."
   ]
  },
  {
   "cell_type": "code",
   "execution_count": null,
   "id": "82393eec-5d86-4fa8-b8bb-5c62a5d6c160",
   "metadata": {},
   "outputs": [],
   "source": [
    "print(f\"Phase Ambiguity Rotation: {np.degrees(uw_offset)} deg\\n\")\n",
    "plt.figure()\n",
    "plt.plot(pll_error_record, label='Phase Error', color='r')\n",
    "plt.title('Phase Error')\n",
    "plt.xlabel('Sample Index')\n",
    "plt.ylabel('Phase Error (radians)')\n",
    "plt.grid()\n",
    "plt.show()\n",
    "\n",
    "plt.title(\"PLL Output Constellations\")\n",
    "plt.plot(np.real(rotated_corrected_constellations), np.imag(rotated_corrected_constellations), 'ro', label=\"Rotated Constellations\")\n",
    "plt.plot(np.real(detected_constellations), np.imag(detected_constellations), 'bo',  label=\"Esteimated Constellations\")\n",
    "plt.legend()\n",
    "plt.grid(True)\n",
    "plt.show()"
   ]
  },
  {
   "cell_type": "markdown",
   "id": "220bab44-b3e5-45ab-97d1-b65d3df9a8b1",
   "metadata": {},
   "source": [
    "#### Symbol Decision\n",
    "\n",
    "The now downsampled to 1 sample per symbol receive signal is ready to be mapped back from constellation points to symbols via a nearest neighbor algorithm, this process is discussed more thoroughly in the *QPSK.ipynb* notebook."
   ]
  },
  {
   "cell_type": "code",
   "execution_count": null,
   "id": "721f163d-5b17-4ee4-bea2-842e759e28c4",
   "metadata": {},
   "outputs": [],
   "source": [
    "detected_symbols = sp.nearest_neighbor(detected_constellations[len(header)+len(unique_word)+1:], qpsk_constellation)\n",
    "\n",
    "error_count = sp.error_count(input_message_symbols[len(unique_word):], detected_symbols)\n",
    "print(f\"Transmission Symbol Errors: {error_count}\")\n",
    "print(f\"Bit Error Percentage: {round((error_count * 2) / len(detected_symbols), 2)} %\")"
   ]
  },
  {
   "cell_type": "markdown",
   "id": "d053943c-40f7-431d-8b16-1a88b6f5c7c3",
   "metadata": {},
   "source": [
    "Finally, the estimated receive symbols can now be converted back to binary representations and then grouped into ascii characters."
   ]
  },
  {
   "cell_type": "code",
   "execution_count": null,
   "id": "1286b2db-c7d3-4630-a377-b729fbcf19bb",
   "metadata": {},
   "outputs": [],
   "source": [
    "detected_bits = []\n",
    "for symbol in detected_symbols:\n",
    "    detected_bits += ([*bin(symbol)[2:].zfill(2)])\n",
    "\n",
    "message = sp.bin_to_char(detected_bits)\n",
    "print(message)"
   ]
  },
  {
   "cell_type": "code",
   "execution_count": null,
   "id": "9093e112-277b-4a9f-bb66-812b48575aef",
   "metadata": {},
   "outputs": [],
   "source": []
  }
 ],
 "metadata": {
  "kernelspec": {
   "display_name": "Python 3 (ipykernel)",
   "language": "python",
   "name": "python3"
  },
  "language_info": {
   "codemirror_mode": {
    "name": "ipython",
    "version": 3
   },
   "file_extension": ".py",
   "mimetype": "text/x-python",
   "name": "python",
   "nbconvert_exporter": "python",
   "pygments_lexer": "ipython3",
   "version": "3.12.4"
  }
 },
 "nbformat": 4,
 "nbformat_minor": 5
}
